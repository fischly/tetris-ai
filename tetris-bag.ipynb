{
 "cells": [
  {
   "cell_type": "code",
   "execution_count": 2,
   "id": "b822bc0d-6cc2-42f1-a4a8-7eadf046eee1",
   "metadata": {},
   "outputs": [],
   "source": [
    "import random\n",
    "import math"
   ]
  },
  {
   "cell_type": "code",
   "execution_count": 4,
   "id": "a9237399-2e9f-4796-9d7b-12be18c6feb1",
   "metadata": {},
   "outputs": [],
   "source": [
    "# Bag mechanic from Tetr.io\n",
    "# https://github.com/Poyo-SSB/tetrio-bot-docs/blob/master/Piece_RNG.md\n",
    "\n",
    "class Bag():\n",
    "    def __init__(self, seed=random.randint(0, 2**32)):\n",
    "        self._t = seed % 2147483647\n",
    "        \n",
    "        if self._t <= 0:\n",
    "            self._t += 2147483646\n",
    "            \n",
    "        self.bag = []\n",
    "        \n",
    "    \n",
    "    def _next(self):\n",
    "        self._t = 16807 * self._t % 2147483647\n",
    "        return self._t\n",
    "    \n",
    "    def _nextFloat(self):\n",
    "        return (self._next() - 1) / 2147483646\n",
    "    \n",
    "    def _shuffleList(self, l):\n",
    "        if len(l) == 0:\n",
    "            return l\n",
    "        \n",
    "        for i in range(len(l) - 1, 0, -1):\n",
    "            r = math.floor(self._nextFloat() * (i + 1))\n",
    "            l[i], l[r] = l[r], l[i]\n",
    "        \n",
    "        return l\n",
    "    \n",
    "    def _extend_bag(self):\n",
    "        new_bag = self._shuffleList(['z', 'l', 'o', 's', 'i', 'j', 't'])\n",
    "        self.bag.extend(new_bag)\n",
    "        \n",
    "    \n",
    "    def next_piece(self):\n",
    "        if len(self.bag) <= 0:\n",
    "            self._extend_bag()\n",
    "        \n",
    "        return self.bag.pop(0)\n",
    "    \n",
    "    def next_pieces(self, amount=7):\n",
    "        # make sure there are enough elements in the bag\n",
    "        while len(self.bag) < amount:\n",
    "            self._extend_bag()\n",
    "        \n",
    "        # take the first 'amount' elmenents from the bag\n",
    "        to_return = self.bag[:amount]\n",
    "        self.bag = self.bag[amount:]\n",
    "        \n",
    "        return to_return"
   ]
  },
  {
   "cell_type": "code",
   "execution_count": 26,
   "id": "e905cb55-28d2-40c8-8150-5c9dd19f2a5d",
   "metadata": {},
   "outputs": [
    {
     "data": {
      "text/plain": [
       "['o', 's', 'l', 'z', 'i', 'x']"
      ]
     },
     "execution_count": 26,
     "metadata": {},
     "output_type": "execute_result"
    }
   ],
   "source": [
    "b = Bag(0)\n",
    "b._shuffleList(['z', 'l', 'o', 's', 'i','x'])"
   ]
  },
  {
   "cell_type": "code",
   "execution_count": 3,
   "id": "f14d6ede-0c9f-40b3-8c6c-4253fbae332b",
   "metadata": {},
   "outputs": [],
   "source": [
    "# testing\n",
    "def test_bag():\n",
    "    b = Bag(840914086)\n",
    "    \n",
    "    assert b.next_piece() == 't'\n",
    "    assert b.next_piece() == 'z'\n",
    "    assert b.next_piece() == 's'\n",
    "    \n",
    "    assert b.next_pieces(6) == ['l', 'i', 'j', 'o', 'z', 't']\n",
    "    assert b.next_pieces(6) == ['o', 'i', 'l', 'j', 's', 'l']\n",
    "\n",
    "test_bag()"
   ]
  }
 ],
 "metadata": {
  "kernelspec": {
   "display_name": "Python 3 (ipykernel)",
   "language": "python",
   "name": "python3"
  },
  "language_info": {
   "codemirror_mode": {
    "name": "ipython",
    "version": 3
   },
   "file_extension": ".py",
   "mimetype": "text/x-python",
   "name": "python",
   "nbconvert_exporter": "python",
   "pygments_lexer": "ipython3",
   "version": "3.10.5"
  }
 },
 "nbformat": 4,
 "nbformat_minor": 5
}
