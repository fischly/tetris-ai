{
 "cells": [
  {
   "cell_type": "code",
   "execution_count": 2,
   "id": "b822bc0d-6cc2-42f1-a4a8-7eadf046eee1",
   "metadata": {},
   "outputs": [],
   "source": [
    "import random\n",
    "import math"
   ]
  },
  {
   "cell_type": "code",
   "execution_count": 30,
   "id": "a9237399-2e9f-4796-9d7b-12be18c6feb1",
   "metadata": {},
   "outputs": [],
   "source": [
    "# Bag mechanic from Tetr.io\n",
    "# https://github.com/Poyo-SSB/tetrio-bot-docs/blob/master/Piece_RNG.md\n",
    "\n",
    "class Bag():\n",
    "    def __init__(self, seed=None):\n",
    "        if seed is None:\n",
    "            seed = random.randint(0, 2**32)\n",
    "        self.reset(seed)\n",
    "    \n",
    "    def _next(self):\n",
    "        self._t = 16807 * self._t % 2147483647\n",
    "        return self._t\n",
    "    \n",
    "    def _nextFloat(self):\n",
    "        return (self._next() - 1) / 2147483646\n",
    "    \n",
    "    def _shuffleList(self, l):\n",
    "        if len(l) == 0:\n",
    "            return l\n",
    "        \n",
    "        for i in range(len(l) - 1, 0, -1):\n",
    "            r = math.floor(self._nextFloat() * (i + 1))\n",
    "            l[i], l[r] = l[r], l[i]\n",
    "        \n",
    "        return l\n",
    "    \n",
    "    def _extend_bag(self):\n",
    "        # new_bag = self._shuffleList(['z', 'l', 'o', 's', 'i', 'j', 't'])\n",
    "        new_bag = self._shuffleList(list(range(7)))\n",
    "        self.bag.extend(new_bag)\n",
    "        \n",
    "    \n",
    "    def next_piece(self):\n",
    "        if len(self.bag) <= 7:\n",
    "            self._extend_bag()\n",
    "        \n",
    "        return self.bag.pop(0)\n",
    "    \n",
    "    def next_pieces(self, amount=7):\n",
    "        # make sure there are enough elements in the bag\n",
    "        while len(self.bag) <= amount + 7:\n",
    "            self._extend_bag()\n",
    "        \n",
    "        # take the first 'amount' elmenents from the bag\n",
    "        to_return = self.bag[:amount]\n",
    "        self.bag = self.bag[amount:]\n",
    "        \n",
    "        return to_return\n",
    "    \n",
    "    def peek_piece(self):\n",
    "        return self.bag[0]\n",
    "    \n",
    "    def peek_pieces(self, amount=7):\n",
    "        # make sure there are enough elements in the bag\n",
    "        while len(self.bag) <= amount + 7:\n",
    "            self._extend_bag()\n",
    "            \n",
    "        return self.bag[:amount]\n",
    "    \n",
    "    def reset(self, new_seed=None):\n",
    "        if new_seed is not None:\n",
    "            self._t = new_seed % 2147483647\n",
    "\n",
    "            if self._t <= 0:\n",
    "                self._t += 2147483646\n",
    "            \n",
    "        self.bag = []\n",
    "        self._extend_bag()\n",
    "        "
   ]
  },
  {
   "cell_type": "code",
   "execution_count": 29,
   "id": "e905cb55-28d2-40c8-8150-5c9dd19f2a5d",
   "metadata": {},
   "outputs": [
    {
     "name": "stdout",
     "output_type": "stream",
     "text": [
      "NEW SEED: 0\n",
      "ASDASDASDAS\n",
      "[0, 3, 4, 2, 1, 5, 6]\n",
      "0 13\n",
      "3 12\n",
      "4 11\n",
      "2 10\n",
      "[1, 5, 6, 2, 3, 4, 0, 5, 1, 6]\n",
      "1\n",
      "1\n",
      "[5, 6, 2, 3, 4, 0, 5, 1, 6]\n"
     ]
    }
   ],
   "source": [
    "# b = Bag(0)\n",
    "# print(b.bag)\n",
    "\n",
    "# print(b.next_piece(), len(b.bag))\n",
    "# print(b.next_piece(), len(b.bag))\n",
    "# print(b.next_piece(), len(b.bag))\n",
    "# print(b.next_piece(), len(b.bag))\n",
    "\n",
    "# print(b.bag)\n",
    "\n",
    "# print(b.peek_piece())\n",
    "# print(b.next_piece())\n",
    "\n",
    "# print(b.bag)\n",
    "# # b._shuffleList(['z', 'l', 'o', 's', 'i','x'])"
   ]
  },
  {
   "cell_type": "code",
   "execution_count": 3,
   "id": "f14d6ede-0c9f-40b3-8c6c-4253fbae332b",
   "metadata": {},
   "outputs": [],
   "source": [
    "# # testing\n",
    "# def test_bag():\n",
    "#     b = Bag(840914086)\n",
    "    \n",
    "#     assert b.next_piece() == 't'\n",
    "#     assert b.next_piece() == 'z'\n",
    "#     assert b.next_piece() == 's'\n",
    "    \n",
    "#     assert b.next_pieces(6) == ['l', 'i', 'j', 'o', 'z', 't']\n",
    "#     assert b.next_pieces(6) == ['o', 'i', 'l', 'j', 's', 'l']\n",
    "\n",
    "# test_bag()"
   ]
  }
 ],
 "metadata": {
  "kernelspec": {
   "display_name": "Python 3 (ipykernel)",
   "language": "python",
   "name": "python3"
  },
  "language_info": {
   "codemirror_mode": {
    "name": "ipython",
    "version": 3
   },
   "file_extension": ".py",
   "mimetype": "text/x-python",
   "name": "python",
   "nbconvert_exporter": "python",
   "pygments_lexer": "ipython3",
   "version": "3.10.5"
  }
 },
 "nbformat": 4,
 "nbformat_minor": 5
}
