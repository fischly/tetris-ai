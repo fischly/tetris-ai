{
 "cells": [
  {
   "cell_type": "code",
   "execution_count": 1,
   "id": "eda35fdc-0332-438d-a7f6-80b5e227dc7a",
   "metadata": {},
   "outputs": [],
   "source": [
    "%load_ext autoreload\n",
    "%autoreload 1"
   ]
  },
  {
   "cell_type": "code",
   "execution_count": 2,
   "id": "684a06cd-77b0-4049-9a51-fe5f6f2d8f55",
   "metadata": {},
   "outputs": [
    {
     "name": "stdout",
     "output_type": "stream",
     "text": [
      "pygame 2.1.2 (SDL 2.0.16, Python 3.9.15)\n",
      "Hello from the pygame community. https://www.pygame.org/contribute.html\n"
     ]
    }
   ],
   "source": [
    "import numpy as np\n",
    "import random\n",
    "import time\n",
    "import pygame\n",
    "import pickle\n",
    "\n",
    "from tetris.Piece import Piece\n",
    "from tetris.EnvironmentRendered import TetrisEnvRendered\n",
    "\n",
    "%aimport gui.gui"
   ]
  },
  {
   "cell_type": "code",
   "execution_count": 3,
   "id": "9b875efe-f271-484d-96bc-c5448fbcb0b2",
   "metadata": {},
   "outputs": [
    {
     "data": {
      "text/plain": [
       "array([-2.65120500e+00, -1.40542180e+01,  9.17620500e+00, -4.85240000e-02,\n",
       "        2.26107000e-01, -3.60218700e+00,  3.21621870e+01, -4.25700700e+00,\n",
       "        9.95256800e+00, -4.02632527e+02, -4.54050280e+01, -1.02634300e+00,\n",
       "        3.13316700e+00, -1.43648000e-01, -2.17000000e-04, -4.69923000e-01,\n",
       "        1.38572000e-01, -5.04130000e-02, -4.54570000e-02, -7.49585000e-01,\n",
       "        1.61800800e+00, -1.89829000e-01,  1.43494800e+00, -8.29420000e-01,\n",
       "       -2.99942000e-01])"
      ]
     },
     "execution_count": 3,
     "metadata": {},
     "output_type": "execute_result"
    }
   ],
   "source": [
    "genome = np.loadtxt('models/genetic-300limit-4.txt', dtype=float)[2]\n",
    "genome"
   ]
  },
  {
   "cell_type": "code",
   "execution_count": 4,
   "id": "26483834-9356-4db0-9f96-f42a2ddf2230",
   "metadata": {},
   "outputs": [],
   "source": [
    "def get_best_state(heuristics, genome):\n",
    "    weighted = np.multiply(heuristics, genome)\n",
    "    \n",
    "    # linear\n",
    "    linear = np.sum(weighted, axis=1)\n",
    "    # todo: test others\n",
    "    \n",
    "    return np.argmax(linear)"
   ]
  },
  {
   "cell_type": "code",
   "execution_count": 5,
   "id": "6e854aad-99ab-4483-94d2-787d76a4cebf",
   "metadata": {},
   "outputs": [],
   "source": [
    "env = TetrisEnvRendered()"
   ]
  },
  {
   "cell_type": "markdown",
   "id": "e1ab1701-f75e-4bfe-bb03-f8d2d763273c",
   "metadata": {
    "tags": []
   },
   "source": [
    "## Without hold"
   ]
  },
  {
   "cell_type": "code",
   "execution_count": 6,
   "id": "9b6be2d4-d5b4-4b8a-8958-0a070b309a14",
   "metadata": {},
   "outputs": [],
   "source": [
    "# runs = []\n",
    "# def render_run():\n",
    "#     env.reset()\n",
    "#     states_to_render = []\n",
    "\n",
    "#     while True:\n",
    "#         states, states_pretty, scores, clears, heuristics, dones, moves = env.get_next_states()\n",
    "\n",
    "#         chosen_index = get_best_state(heuristics, genome)\n",
    "\n",
    "#         states_to_render.append((states_pretty[chosen_index], moves[chosen_index], env.current_piece, env.get_next_queue(), env.hold_piece, clears[chosen_index]))\n",
    "\n",
    "#         if dones[chosen_index]:\n",
    "#             print(f'Score: {env.score}')\n",
    "#             print(f'Clears: {env.clears}, t-spins: {env.tspins}, alll_clears: {env.all_clears}')\n",
    "#             break\n",
    "#         else:\n",
    "#             env.step(states[chosen_index], states_pretty[chosen_index], clears[chosen_index], scores[chosen_index])\n",
    "\n",
    "#     runs.append(states_to_render)\n",
    "    \n",
    "# for i in range(1):\n",
    "#     render_run()"
   ]
  },
  {
   "cell_type": "markdown",
   "id": "e6039540-7128-49e6-8560-f2748fa369a9",
   "metadata": {},
   "source": [
    "## With hold"
   ]
  },
  {
   "cell_type": "code",
   "execution_count": 16,
   "id": "240bc222-e7c8-483a-8626-139df0a72215",
   "metadata": {},
   "outputs": [
    {
     "name": "stdout",
     "output_type": "stream",
     "text": [
      "Score: 30500.0\n",
      "Clears: [30, 25, 7, 23], t-spins: 0, alll_clears: 0\n",
      "Score: 93212.5\n",
      "Clears: [81, 61, 16, 76], t-spins: 0, alll_clears: 0\n"
     ]
    }
   ],
   "source": [
    "run = []\n",
    "def render_run():\n",
    "    env.reset()\n",
    "\n",
    "    while True:\n",
    "        states_curr, states_pretty_curr, scores_curr, clears_curr, heuristics_curr, dones_curr, moves_curr = env.get_next_states()\n",
    "        states_hold, states_pretty_hold, scores_hold, clears_hold, heuristics_hold, dones_hold, moves_hold = env.get_next_states(use_hold=True)\n",
    "\n",
    "        states = np.concatenate([states_curr, states_hold]) if states_hold is not None else states_curr\n",
    "        states_pretty = np.concatenate([states_pretty_curr, states_pretty_hold]) if states_pretty_hold is not None else states_pretty_curr\n",
    "        scores = scores_curr + scores_hold if scores_hold is not None else scores_curr\n",
    "        clears = np.concatenate([clears_curr, clears_hold]) if clears_hold is not None else clears_curr\n",
    "        heuristics = np.concatenate([heuristics_curr, heuristics_hold]) if heuristics_hold is not None else heuristics_curr\n",
    "        dones = dones_curr + dones_hold if dones_hold is not None else dones_curr\n",
    "        moves = np.concatenate([moves_curr, moves_hold]) if moves_hold is not None else moves_curr\n",
    "\n",
    "        chosen_index = get_best_state(heuristics, genome)\n",
    "\n",
    "        # it holded\n",
    "        if chosen_index >= len(states_curr):\n",
    "            run.append((states_pretty[chosen_index], moves[chosen_index], env.bag.peek_piece() if env.hold_piece is None else env.hold_piece, env.get_next_queue(), env.current_piece, clears[chosen_index]))\n",
    "            env.hold()\n",
    "        else:\n",
    "            run.append((states_pretty[chosen_index], moves[chosen_index], env.current_piece, env.get_next_queue(), env.hold_piece, clears[chosen_index]))\n",
    "\n",
    "        if env.moves % 1000 == 500:\n",
    "            print(f'Score: {env.score}')\n",
    "            print(f'Clears: {env.clears}, t-spins: {env.tspins}, alll_clears: {env.all_clears}')\n",
    "            \n",
    "        if dones[chosen_index]:\n",
    "            print(f'Score: {env.score}')\n",
    "            print(f'Clears: {env.clears}, t-spins: {env.tspins}, alll_clears: {env.all_clears}')\n",
    "            break\n",
    "        else:\n",
    "            env.step(states[chosen_index], states_pretty[chosen_index], clears[chosen_index], scores[chosen_index])\n",
    "    \n",
    "render_run()"
   ]
  },
  {
   "cell_type": "code",
   "execution_count": null,
   "id": "e44ea958-89a3-498d-b68e-5a96cd8311a9",
   "metadata": {},
   "outputs": [],
   "source": [
    "# # store run\n",
    "# with open('runs/530k.pkl', 'wb') as file:\n",
    "#     pickle.dump(runs[0], file, pickle.HIGHEST_PROTOCOL)\n",
    "\n",
    "# # load run\n",
    "# with open('runs/396k.pkl', 'rb') as file:\n",
    "#     run = pickle.load(file)"
   ]
  },
  {
   "cell_type": "code",
   "execution_count": 15,
   "id": "25beccd4-c699-43ab-bf66-9c2a48bde888",
   "metadata": {},
   "outputs": [],
   "source": [
    "run2 = run.copy()"
   ]
  },
  {
   "cell_type": "code",
   "execution_count": 18,
   "id": "c679f21e-7c22-48a6-a717-486d494cd90e",
   "metadata": {},
   "outputs": [],
   "source": [
    "g = gui.gui.Gui(sleep=12)\n",
    "\n",
    "last_state = np.ones((20,10)) * -1\n",
    "\n",
    "time.sleep(10)\n",
    "\n",
    "for state, moves, piece, queue, hold, clears in run: # runs[0][-200:]:\n",
    "    p = Piece(piece)\n",
    "    \n",
    "    for move in moves:\n",
    "        for m in move.split(','):\n",
    "            if m == 'ml':\n",
    "                p.pos[1] -= 1\n",
    "            if m == 'mr':\n",
    "                p.pos[1] += 1\n",
    "            if m == 'sd':\n",
    "                p.pos[0] += 1\n",
    "            if m == 'mu':\n",
    "                p.pos[0] -= 1\n",
    "\n",
    "            if m == 'rr':\n",
    "                p.rot = (p.rot + 1) % p.pdata.num_rot\n",
    "            if m == 'rl':\n",
    "                p.rot = (p.rot - 1) % p.pdata.num_rot\n",
    "\n",
    "        g.draw(last_state, p, queue, hold)\n",
    "\n",
    "        for event in pygame.event.get():\n",
    "            if event.type == pygame.QUIT:\n",
    "                pygame.quit()\n",
    "            # if event.type == pygame.KEYDOWN:\n",
    "            #     if event.key == pygame.K_RIGHT:\n",
    "            #         move_step += 1\n",
    "    \n",
    "    if clears[0] == 4:\n",
    "        g.play_sound_quad()\n",
    "    elif clears[1] and clears[0] > 0:\n",
    "        g.play_sound_tspin()\n",
    "    elif clears[2]:\n",
    "        pass # all-clear\n",
    "    elif clears[0] > 0:\n",
    "        g.play_sound_clear()\n",
    "    \n",
    "    last_state = state"
   ]
  },
  {
   "cell_type": "code",
   "execution_count": 19,
   "id": "cd518a27-35db-4256-aa5f-d9ea93d7cf97",
   "metadata": {},
   "outputs": [],
   "source": [
    "pygame.quit()"
   ]
  }
 ],
 "metadata": {
  "kernelspec": {
   "display_name": "Python 3 (ipykernel)",
   "language": "python",
   "name": "python3"
  },
  "language_info": {
   "codemirror_mode": {
    "name": "ipython",
    "version": 3
   },
   "file_extension": ".py",
   "mimetype": "text/x-python",
   "name": "python",
   "nbconvert_exporter": "python",
   "pygments_lexer": "ipython3",
   "version": "3.9.15"
  }
 },
 "nbformat": 4,
 "nbformat_minor": 5
}
