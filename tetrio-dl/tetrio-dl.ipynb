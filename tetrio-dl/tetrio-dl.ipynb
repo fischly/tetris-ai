{
 "cells": [
  {
   "cell_type": "code",
   "execution_count": 61,
   "id": "816764f6-6a2b-44b5-baa0-a53cc7011cd6",
   "metadata": {},
   "outputs": [],
   "source": [
    "import os\n",
    "import logging\n",
    "import requests\n",
    "import json\n",
    "from tqdm.notebook import tqdm\n",
    "from time import sleep\n",
    "import functools\n",
    "import msgpack\n",
    "\n",
    "BEST_PLAYERS_URL = 'https://ch.tetr.io/api/users/lists/league?limit=100'\n",
    "BEST_PLAYERS_FILE = 'best-players.json'\n",
    "\n",
    "RECENT_GAMES_URL = 'https://ch.tetr.io/api/streams/league_userrecent_{}'  # fill in player id (found in best player list)\n",
    "RECENT_GAMES_FILE = 'recent-games/recent-games-{}.json'  # fill in player id\n",
    "\n",
    "\n",
    "# GAME_DOWNLOAD_URL = 'https://tetr.io/api/games/{}'  # fill in replay id (found in game history)\n",
    "\n",
    "REPLAY_URL = 'https://inoue.szy.lol/api/replay/{}'  # fill in the replay id\n",
    "REPLAY_FILE = 'replays/replay-{}-{}.ttr'  # fill in the user id and replay id\n",
    "\n",
    "HEADERS = {'User-Agent': 'requests/2.28.1 <project-name>', 'From': '<name>/<email>'}\n",
    "\n",
    "logging.getLogger().setLevel(logging.DEBUG)"
   ]
  },
  {
   "cell_type": "code",
   "execution_count": null,
   "id": "71a553c4-da13-46a8-b3fb-4e8d67251a3d",
   "metadata": {},
   "outputs": [],
   "source": []
  },
  {
   "cell_type": "code",
   "execution_count": 62,
   "id": "6293af65-01f7-429a-a3f4-ac29a73a973b",
   "metadata": {},
   "outputs": [],
   "source": [
    "def _load_from_cache(useCachedIfAvailable, file_path):\n",
    "    if useCachedIfAvailable:\n",
    "        if os.path.isfile(file_path):\n",
    "            with open(file_path) as f:\n",
    "                return json.load(f)\n",
    "\n",
    "\n",
    "def _download_file(url, cache_file, **kwargs):\n",
    "    r = requests.get(\n",
    "        url,\n",
    "        allow_redirects=True, \n",
    "        headers=HEADERS,\n",
    "        **kwargs\n",
    "    )\n",
    "\n",
    "    with open(cache_file, 'wb+') as f:\n",
    "        f.write(r.content)\n",
    "\n",
    "    return json.loads(r.content)"
   ]
  },
  {
   "cell_type": "code",
   "execution_count": 63,
   "id": "0f0735af-ebba-4dc2-ab62-2c81a897b571",
   "metadata": {},
   "outputs": [],
   "source": [
    "def download_best_players(useCachedIfAvailable=True):\n",
    "    data = _load_from_cache(useCachedIfAvailable, BEST_PLAYERS_FILE)\n",
    "    \n",
    "    if data is not None:\n",
    "        data = data['data']['users']\n",
    "        \n",
    "        logging.info('[download_best_players] fetched best player list from local cache...')\n",
    "    else:\n",
    "        data = _download_file(BEST_PLAYERS_URL, BEST_PLAYERS_FILE)['data']['users']\n",
    "        \n",
    "        logging.info('[download_best_players] downloaded best player list from tetra channel...')\n",
    "        \n",
    "    return data\n",
    "\n",
    "    \n",
    "# download_best_players()[0]['username']\n",
    "# download_best_players()"
   ]
  },
  {
   "cell_type": "code",
   "execution_count": 66,
   "id": "8b3555c1-015b-4ed9-99d2-a3b51687d9d5",
   "metadata": {
    "tags": []
   },
   "outputs": [],
   "source": [
    "def download_recent_games(player_id, useCachedIfAvailable=True):\n",
    "    cache_file = RECENT_GAMES_FILE.format(player_id)\n",
    "    download_uri = RECENT_GAMES_URL.format(player_id)\n",
    "    \n",
    "    data = _load_from_cache(useCachedIfAvailable, cache_file)\n",
    "    \n",
    "    if data is not None:\n",
    "        data = data['data']['records']\n",
    "        \n",
    "        logging.info(f'[download_recent_games] fetched recent games list of player {player_id} from local cache...')\n",
    "    else:\n",
    "        data = _download_file(download_uri, cache_file)['data']['records']\n",
    "        \n",
    "        logging.info(f'[download_recent_games] downloaded recent games list of player {player_id} from tetra channel...')\n",
    "        \n",
    "    return data            \n",
    "    \n",
    "# download_best_players()[0]['username']\n",
    "# download_recent_games('5e7cbb652932b46c9c671ce4')"
   ]
  },
  {
   "cell_type": "code",
   "execution_count": 78,
   "id": "fd9fedac-1bd4-49cf-96d0-5da431f1e5b6",
   "metadata": {
    "tags": []
   },
   "outputs": [
    {
     "name": "stderr",
     "output_type": "stream",
     "text": [
      "INFO:root:[download_replay] fetched replay 638c5a12a28f8610572907cf from local cache...\n"
     ]
    },
    {
     "name": "stdout",
     "output_type": "stream",
     "text": [
      "lel\n"
     ]
    }
   ],
   "source": [
    "def download_replay(user_id, replay_id, useCachedIfAvailable=True):\n",
    "    cache_file = REPLAY_FILE.format(user_id, replay_id)\n",
    "    download_uri = REPLAY_URL.format(replay_id)\n",
    "    \n",
    "    data = _load_from_cache(useCachedIfAvailable, cache_file)\n",
    "    \n",
    "    if data is not None:\n",
    "        logging.info(f'[download_replay] fetched replay {replay_id} from local cache...')\n",
    "    else:\n",
    "        logging.info(f'[download_replay] downloading replay {replay_id} from inoue bot...')\n",
    "        \n",
    "        r = requests.get(\n",
    "            download_uri,\n",
    "            allow_redirects=True,\n",
    "            stream=True,\n",
    "            headers=HEADERS\n",
    "        )\n",
    "\n",
    "        with open(cache_file, 'wb+') as f:\n",
    "            total_length = int(r.headers.get('content-length'))\n",
    "            \n",
    "            for chunk in tqdm(r.iter_content(chunk_size=1024), total=(total_length/1024) + 1, leave=False):\n",
    "                if chunk:\n",
    "                    f.write(chunk)\n",
    "                    f.flush()\n",
    "        \n",
    "            f.seek(0)\n",
    "            data = json.load(f)\n",
    "    \n",
    "    return data\n",
    "            \n",
    "    \n",
    "# lelz = download_replay('5e7cbb652932b46c9c671ce4', '638c5a12a28f8610572907cf')"
   ]
  },
  {
   "cell_type": "code",
   "execution_count": 88,
   "id": "34458dd6-774b-4360-b282-fc2a2a7a0727",
   "metadata": {},
   "outputs": [],
   "source": [
    "class GameIterator:\n",
    "    def __init__(self):\n",
    "        self.best_players = download_best_players()[0:3]\n",
    "        self.games = {}\n",
    "        self.current_player = 0\n",
    "        self.current_game = 0\n",
    "    \n",
    "    def __iter__(self):\n",
    "        return self\n",
    "    \n",
    "    def __next__(self):\n",
    "        max_games = len(self._get_games())\n",
    "        \n",
    "        if self.current_game >= max_games:\n",
    "            self.current_player += 1\n",
    "            self.current_game = 0\n",
    "            \n",
    "            if self.current_player >= len(self.best_players):\n",
    "                raise StopIteration\n",
    "        \n",
    "        current_game = self._get_game()\n",
    "        \n",
    "        self.current_game += 1\n",
    "        \n",
    "        return self.best_players[self.current_player], current_game\n",
    "    \n",
    "    \n",
    "    def _get_games(self):\n",
    "        current_player_id = self.best_players[self.current_player]['_id']\n",
    "        \n",
    "        # fetch the game, if not fetched already\n",
    "        if current_player_id not in self.games:\n",
    "            self.games[current_player_id] = download_recent_games(current_player_id)\n",
    "            \n",
    "        return self.games[current_player_id]\n",
    "    \n",
    "    def _get_game(self):\n",
    "        return self._get_games()[self.current_game]\n",
    "        \n",
    "    \n",
    "    def has_next(self):\n",
    "        temp_curr_player = self.current_player\n",
    "        max_games = len(self._get_games())\n",
    "        \n",
    "        if self.current_game >= max_games:\n",
    "            temp_curr_player += 1\n",
    "            \n",
    "        if temp_curr_player >= len(self.best_players):\n",
    "            return False\n",
    "        \n",
    "        return True\n"
   ]
  },
  {
   "cell_type": "code",
   "execution_count": null,
   "id": "d474c396-283a-4309-a118-0697450f06b6",
   "metadata": {},
   "outputs": [
    {
     "name": "stderr",
     "output_type": "stream",
     "text": [
      "INFO:root:[download_best_players] fetched best player list from local cache...\n"
     ]
    },
    {
     "data": {
      "application/vnd.jupyter.widget-view+json": {
       "model_id": "2d0faf5e781943168e8b09bd3edcf0a9",
       "version_major": 2,
       "version_minor": 0
      },
      "text/plain": [
       "  0%|          | 0/1000 [00:00<?, ?it/s]"
      ]
     },
     "metadata": {},
     "output_type": "display_data"
    },
    {
     "name": "stderr",
     "output_type": "stream",
     "text": [
      "INFO:root:[download_recent_games] fetched recent games list of player 5e7cbb652932b46c9c671ce4 from local cache...\n"
     ]
    },
    {
     "name": "stdout",
     "output_type": "stream",
     "text": [
      "icly 638c5758a28f8610572906c6\n",
      "icly 638c53daa28f8610572905a7\n",
      "icly 638c50eca28f861057290498\n",
      "icly 638c3fe8df20761071f99799\n",
      "icly 638c3cf8df20761071f99695\n",
      "icly 638c39c877ac79105d2fe2c7\n",
      "icly 638c360977ac79105d2fe12b\n",
      "icly 638c332477ac79105d2fdffa\n"
     ]
    },
    {
     "name": "stderr",
     "output_type": "stream",
     "text": [
      "INFO:root:[download_recent_games] fetched recent games list of player 615fb20fe17beeef45104302 from local cache...\n"
     ]
    },
    {
     "name": "stdout",
     "output_type": "stream",
     "text": [
      "blaarg 638c5a12a28f8610572907cf\n",
      "blaarg 638c5758a28f8610572906c6\n",
      "blaarg 638c53daa28f8610572905a7\n",
      "blaarg 638c50eca28f861057290498\n",
      "blaarg 638c4eb3bf44ce1066aeca43\n",
      "blaarg 638c4bd277ac79105d2fe94e\n",
      "blaarg 638c49d977fc831073531a16\n",
      "blaarg 638c460277fc8310735318a3\n",
      "blaarg 638c428d1a8e44107adf7984\n",
      "blaarg 638c3fe8df20761071f99799\n"
     ]
    },
    {
     "name": "stderr",
     "output_type": "stream",
     "text": [
      "INFO:root:[download_recent_games] fetched recent games list of player 5e844b0868270e617d52c990 from local cache...\n"
     ]
    },
    {
     "name": "stdout",
     "output_type": "stream",
     "text": [
      "czsmall0402 638cca08a28f8610572930dd\n",
      "czsmall0402 638390fd9c7242cc85584c15\n",
      "czsmall0402 637a58316412ae312aea05ce\n",
      "czsmall0402 63712dd2efc473f7c4faec0e\n",
      "czsmall0402 6367de71f9ffbe7fac581676\n",
      "czsmall0402 635eac80456cd10bae7d4980\n",
      "czsmall0402 635576d963d2855fefa11ae1\n",
      "czsmall0402 634c21361aa72f8664d9d0f6\n",
      "czsmall0402 63430225840b8fe69dce54d3\n",
      "czsmall0402 6339b009d5a4ef5ffbfa3db0\n"
     ]
    }
   ],
   "source": [
    "g = GameIterator()\n",
    "\n",
    "with tqdm(total=10*100) as bar:\n",
    "    while g.has_next():\n",
    "        player, game = next(g)\n",
    "        print(player['username'], game['replayid'])\n",
    "\n",
    "        download_replay(player['_id'], game['replayid'])\n",
    "        \n",
    "        bar.update(1)\n",
    "        sleep(60)\n",
    "    "
   ]
  },
  {
   "cell_type": "code",
   "execution_count": null,
   "id": "d74c2716-290a-4808-b4ab-412ecccdb1c7",
   "metadata": {},
   "outputs": [],
   "source": []
  }
 ],
 "metadata": {
  "kernelspec": {
   "display_name": "Python 3 (ipykernel)",
   "language": "python",
   "name": "python3"
  },
  "language_info": {
   "codemirror_mode": {
    "name": "ipython",
    "version": 3
   },
   "file_extension": ".py",
   "mimetype": "text/x-python",
   "name": "python",
   "nbconvert_exporter": "python",
   "pygments_lexer": "ipython3",
   "version": "3.10.5"
  }
 },
 "nbformat": 4,
 "nbformat_minor": 5
}
