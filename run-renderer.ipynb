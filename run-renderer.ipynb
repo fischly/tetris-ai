{
 "cells": [
  {
   "cell_type": "code",
   "execution_count": null,
   "id": "684a06cd-77b0-4049-9a51-fe5f6f2d8f55",
   "metadata": {},
   "outputs": [],
   "source": [
    "import numpy as np\n",
    "import random\n",
    "import time\n",
    "import pygame\n",
    "import pickle\n",
    "\n",
    "import torch\n",
    "import torch.nn as nn\n",
    "import torch.nn.functional as F\n",
    "import torch.optim as optim\n",
    "\n",
    "import dqnmodel\n",
    "\n",
    "from tetris.Piece import Piece\n",
    "from tetris.EnvironmentRendered import TetrisEnvRendered\n",
    "\n",
    "import gui.gui"
   ]
  },
  {
   "cell_type": "code",
   "execution_count": null,
   "id": "fdc1cf08-0a0e-493c-985c-b5f54f6d28f0",
   "metadata": {},
   "outputs": [],
   "source": [
    "device = 'cuda'\n",
    "\n",
    "model = dqnmodel.DQNModel(100, 'models/test-run.pt')\n",
    "model.to(device)"
   ]
  },
  {
   "cell_type": "code",
   "execution_count": null,
   "id": "26483834-9356-4db0-9f96-f42a2ddf2230",
   "metadata": {},
   "outputs": [],
   "source": [
    "def get_best_state(states):\n",
    "    # use the q-network (not the target network) for chosing the next state\n",
    "    q_values = model.model(states)\n",
    "    return torch.argmax(q_values)"
   ]
  },
  {
   "cell_type": "code",
   "execution_count": null,
   "id": "6e854aad-99ab-4483-94d2-787d76a4cebf",
   "metadata": {},
   "outputs": [],
   "source": [
    "env = TetrisEnvRendered()"
   ]
  },
  {
   "cell_type": "markdown",
   "id": "054c7533-095a-4f43-aaf7-42e8b3d8921c",
   "metadata": {},
   "source": [
    "## Without hold"
   ]
  },
  {
   "cell_type": "code",
   "execution_count": null,
   "id": "9b6be2d4-d5b4-4b8a-8958-0a070b309a14",
   "metadata": {},
   "outputs": [],
   "source": [
    "# runs = []\n",
    "# def render_run():\n",
    "#     model.model.eval()\n",
    "#     with torch.no_grad():\n",
    "#         env.reset()\n",
    "#         states_to_render = []\n",
    "\n",
    "#         while True:\n",
    "#             states, states_pretty, scores, clears, dones, moves = env.get_next_states()\n",
    "\n",
    "#             chosen_index = get_best_state(torch.from_numpy(states.reshape(-1, 1, 20, 10)).float().to(device))\n",
    "\n",
    "#             states_to_render.append((states_pretty[chosen_index], moves[chosen_index], env.current_piece, env.get_next_queue(), clears[chosen_index]))\n",
    "\n",
    "#             if dones[chosen_index]:\n",
    "#                 print(f'Score: {env.score}')\n",
    "#                 print(f'Clears: {env.clears}, t-spins: {env.tspins}, alll_clears: {env.all_clears}')\n",
    "#                 break\n",
    "#             else:\n",
    "#                 env.step(states[chosen_index], states_pretty[chosen_index], clears[chosen_index], scores[chosen_index])\n",
    "\n",
    "#         runs.append(states_to_render)\n",
    "    \n",
    "# for i in range(1):\n",
    "#     render_run()"
   ]
  },
  {
   "cell_type": "markdown",
   "id": "e6039540-7128-49e6-8560-f2748fa369a9",
   "metadata": {},
   "source": [
    "## With hold"
   ]
  },
  {
   "cell_type": "code",
   "execution_count": null,
   "id": "240bc222-e7c8-483a-8626-139df0a72215",
   "metadata": {},
   "outputs": [],
   "source": [
    "runs = []\n",
    "def render_run():\n",
    "    model.model.eval()\n",
    "    with torch.no_grad():\n",
    "        env.reset()\n",
    "        states_to_render = []\n",
    "\n",
    "        while True:\n",
    "            states_curr, states_pretty_curr, scores_curr, clears_curr, dones_curr, moves_curr = env.get_next_states()\n",
    "            states_hold, states_pretty_hold, scores_hold, clears_hold, dones_hold, moves_hold = env.get_next_states(use_hold=True)\n",
    "\n",
    "            states = np.concatenate([states_curr, states_hold]) if states_hold is not None else states_curr\n",
    "            states_pretty = np.concatenate([states_pretty_curr, states_pretty_hold]) if states_pretty_hold is not None else states_pretty_curr\n",
    "            scores = scores_curr + scores_hold if scores_hold is not None else scores_curr\n",
    "            clears = np.concatenate([clears_curr, clears_hold]) if clears_hold is not None else clears_curr\n",
    "            dones = dones_curr + dones_hold if dones_hold is not None else dones_curr\n",
    "            moves = np.concatenate([moves_curr, moves_hold]) if moves_hold is not None else moves_curr\n",
    "                        \n",
    "            chosen_index = get_best_state(torch.from_numpy(states.reshape(-1, 1, 20, 10)).float().to(device))\n",
    "\n",
    "            # it holded\n",
    "            if chosen_index >= len(states_curr):\n",
    "                states_to_render.append((states_pretty[chosen_index], moves[chosen_index], env.bag.peek_piece() if env.hold_piece is None else env.hold_piece, env.get_next_queue(), env.current_piece, clears[chosen_index]))\n",
    "                env.hold()\n",
    "            else:\n",
    "                states_to_render.append((states_pretty[chosen_index], moves[chosen_index], env.current_piece, env.get_next_queue(), env.hold_piece, clears[chosen_index]))\n",
    "\n",
    "            if dones[chosen_index]:\n",
    "                print(f'Score: {env.score}')\n",
    "                print(f'Clears: {env.clears}, t-spins: {env.tspins}, alll_clears: {env.all_clears}')\n",
    "                break\n",
    "            else:\n",
    "                env.step(states[chosen_index], states_pretty[chosen_index], clears[chosen_index], scores[chosen_index])\n",
    "\n",
    "        runs.append(states_to_render)\n",
    "    \n",
    "render_run()"
   ]
  },
  {
   "cell_type": "code",
   "execution_count": null,
   "id": "e44ea958-89a3-498d-b68e-5a96cd8311a9",
   "metadata": {},
   "outputs": [],
   "source": [
    "# # store run\n",
    "# with open('runs/530k.pkl', 'wb') as file:\n",
    "#     pickle.dump(runs[0], file, pickle.HIGHEST_PROTOCOL)\n",
    "\n",
    "# # load run\n",
    "# with open('runs/396k.pkl', 'rb') as file:\n",
    "#     run = pickle.load(file)"
   ]
  },
  {
   "cell_type": "code",
   "execution_count": null,
   "id": "c679f21e-7c22-48a6-a717-486d494cd90e",
   "metadata": {},
   "outputs": [],
   "source": [
    "g = gui.gui.Gui(sleep=33)\n",
    "\n",
    "last_state = np.ones((20,10)) * -1\n",
    "\n",
    "for state, moves, piece, queue, hold, clears in runs[0]:\n",
    "    p = Piece(piece)\n",
    "    \n",
    "    for move in moves:\n",
    "        for m in move.split(','):\n",
    "            if m == 'ml':\n",
    "                p.pos[1] -= 1\n",
    "            if m == 'mr':\n",
    "                p.pos[1] += 1\n",
    "            if m == 'sd':\n",
    "                p.pos[0] += 1\n",
    "            if m == 'mu':\n",
    "                p.pos[0] -= 1\n",
    "\n",
    "            if m == 'rr':\n",
    "                p.rot = (p.rot + 1) % p.pdata.num_rot\n",
    "            if m == 'rl':\n",
    "                p.rot = (p.rot - 1) % p.pdata.num_rot\n",
    "\n",
    "        g.draw(last_state, p, queue, hold)\n",
    "\n",
    "        for event in pygame.event.get():\n",
    "            if event.type == pygame.QUIT:\n",
    "                pygame.quit()\n",
    "    \n",
    "    if clears[0] == 4:\n",
    "        g.play_sound_quad()\n",
    "    elif clears[1] and clears[0] > 0:\n",
    "        g.play_sound_tspin()\n",
    "    elif clears[2]:\n",
    "        pass # all-clear\n",
    "    elif clears[0] > 0:\n",
    "        g.play_sound_clear()\n",
    "    \n",
    "    last_state = state"
   ]
  },
  {
   "cell_type": "code",
   "execution_count": null,
   "id": "cd518a27-35db-4256-aa5f-d9ea93d7cf97",
   "metadata": {},
   "outputs": [],
   "source": [
    "pygame.quit()"
   ]
  }
 ],
 "metadata": {
  "kernelspec": {
   "display_name": "Python 3 (ipykernel)",
   "language": "python",
   "name": "python3"
  },
  "language_info": {
   "codemirror_mode": {
    "name": "ipython",
    "version": 3
   },
   "file_extension": ".py",
   "mimetype": "text/x-python",
   "name": "python",
   "nbconvert_exporter": "python",
   "pygments_lexer": "ipython3",
   "version": "3.9.15"
  }
 },
 "nbformat": 4,
 "nbformat_minor": 5
}
