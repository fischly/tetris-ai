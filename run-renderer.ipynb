{
 "cells": [
  {
   "cell_type": "code",
   "execution_count": 1,
   "id": "eda35fdc-0332-438d-a7f6-80b5e227dc7a",
   "metadata": {},
   "outputs": [],
   "source": [
    "%load_ext autoreload\n",
    "%autoreload 1"
   ]
  },
  {
   "cell_type": "code",
   "execution_count": 2,
   "id": "684a06cd-77b0-4049-9a51-fe5f6f2d8f55",
   "metadata": {},
   "outputs": [
    {
     "name": "stdout",
     "output_type": "stream",
     "text": [
      "pygame 2.1.2 (SDL 2.0.16, Python 3.9.15)\n",
      "Hello from the pygame community. https://www.pygame.org/contribute.html\n"
     ]
    }
   ],
   "source": [
    "import numpy as np\n",
    "import random\n",
    "import time\n",
    "import pygame\n",
    "import pickle\n",
    "\n",
    "import torch\n",
    "import torch.nn as nn\n",
    "import torch.nn.functional as F\n",
    "import torch.optim as optim\n",
    "\n",
    "import dqnmodel\n",
    "\n",
    "%aimport gui.gui"
   ]
  },
  {
   "cell_type": "code",
   "execution_count": 3,
   "id": "d4163ce0-8712-469c-9d37-7a8e655b928c",
   "metadata": {},
   "outputs": [
    {
     "name": "stdout",
     "output_type": "stream",
     "text": [
      "          \n",
      "          \n",
      "          \n",
      "          \n",
      "          \n",
      "          \n",
      "          \n",
      "          \n",
      "          \n",
      "          \n",
      "          \n",
      "          \n",
      "          \n",
      "          \n",
      "█████     \n",
      "████      \n",
      "████ █████\n",
      "████  ████\n",
      "████ █████\n",
      "██████████\n"
     ]
    }
   ],
   "source": [
    "%run tetris-environment.ipynb"
   ]
  },
  {
   "cell_type": "code",
   "execution_count": 4,
   "id": "fdc1cf08-0a0e-493c-985c-b5f54f6d28f0",
   "metadata": {},
   "outputs": [],
   "source": [
    "device = 'cuda'\n",
    "\n",
    "model = dqnmodel.DQNModel(100, 'models/run-cnn-after-12000.pt')\n",
    "model.to(device)"
   ]
  },
  {
   "cell_type": "code",
   "execution_count": 5,
   "id": "26483834-9356-4db0-9f96-f42a2ddf2230",
   "metadata": {},
   "outputs": [],
   "source": [
    "def get_best_state(states):\n",
    "    # use the q-network (not the target network) for chosing the next state\n",
    "    q_values = model.model(states)\n",
    "    return torch.argmax(q_values)"
   ]
  },
  {
   "cell_type": "code",
   "execution_count": 6,
   "id": "6e854aad-99ab-4483-94d2-787d76a4cebf",
   "metadata": {},
   "outputs": [],
   "source": [
    "env = TetrisEnvRendered()"
   ]
  },
  {
   "cell_type": "code",
   "execution_count": 7,
   "id": "3b9c3387-5a5b-4647-8164-80d3a537dc7a",
   "metadata": {},
   "outputs": [],
   "source": [
    "# env.reset()\n",
    "# states_to_render = []\n",
    "\n",
    "# while True:\n",
    "#     states, states_pretty, scores, clears, dones, moves = env.get_next_states()\n",
    "\n",
    "#     chosen_index = random.choice(range(len(states))) # get_best_state(torch.from_numpy(states.reshape(-1, 1, 20, 10)).float().to(device), False)\n",
    "\n",
    "#     states_to_render.append((states_pretty[chosen_index], moves[chosen_index], env.current_piece))\n",
    "\n",
    "#     if dones[chosen_index]:\n",
    "#         print(f'Score: {env.score}')\n",
    "#         print(f'Clears: {env.clears}, t-spins: {env.tspins}, alll_clears: {env.all_clears}')\n",
    "#         break\n",
    "#     else:\n",
    "#         env.step(states[chosen_index], states_pretty[chosen_index], clears[chosen_index], scores[chosen_index])    "
   ]
  },
  {
   "cell_type": "code",
   "execution_count": 8,
   "id": "9b6be2d4-d5b4-4b8a-8958-0a070b309a14",
   "metadata": {},
   "outputs": [
    {
     "name": "stdout",
     "output_type": "stream",
     "text": [
      "Score: 65387.5\n",
      "Clears: [192, 68, 14, 17], t-spins: 9, alll_clears: 0\n",
      "Score: 27087.5\n",
      "Clears: [134, 24, 4, 3], t-spins: 4, alll_clears: 0\n",
      "Score: 64812.5\n",
      "Clears: [250, 81, 15, 6], t-spins: 10, alll_clears: 0\n"
     ]
    }
   ],
   "source": [
    "runs = []\n",
    "def render_run():\n",
    "    model.model.eval()\n",
    "    with torch.no_grad():\n",
    "        env.reset()\n",
    "        states_to_render = []\n",
    "\n",
    "        while True:\n",
    "            states, states_pretty, scores, clears, dones, moves = env.get_next_states()\n",
    "\n",
    "            chosen_index = get_best_state(torch.from_numpy(states.reshape(-1, 1, 20, 10)).float().to(device))\n",
    "\n",
    "            states_to_render.append((states_pretty[chosen_index], moves[chosen_index], env.current_piece, clears[chosen_index]))\n",
    "\n",
    "            if dones[chosen_index]:\n",
    "                print(f'Score: {env.score}')\n",
    "                print(f'Clears: {env.clears}, t-spins: {env.tspins}, alll_clears: {env.all_clears}')\n",
    "                break\n",
    "            else:\n",
    "                env.step(states[chosen_index], states_pretty[chosen_index], clears[chosen_index], scores[chosen_index])\n",
    "\n",
    "        runs.append(states_to_render)\n",
    "    \n",
    "for i in range(3):\n",
    "    render_run()"
   ]
  },
  {
   "cell_type": "code",
   "execution_count": 7,
   "id": "e44ea958-89a3-498d-b68e-5a96cd8311a9",
   "metadata": {},
   "outputs": [],
   "source": [
    "# # store run\n",
    "# with open('runs/65k-good-quad-streak.pkl', 'wb') as file:\n",
    "#     pickle.dump(runs[0], file, pickle.HIGHEST_PROTOCOL)\n",
    "\n",
    "# load run\n",
    "with open('runs/65k-good-quad-streak.pkl', 'rb') as file:\n",
    "    run = pickle.load(file)"
   ]
  },
  {
   "cell_type": "code",
   "execution_count": 14,
   "id": "c679f21e-7c22-48a6-a717-486d494cd90e",
   "metadata": {},
   "outputs": [
    {
     "ename": "error",
     "evalue": "display Surface quit",
     "output_type": "error",
     "traceback": [
      "\u001b[0;31m---------------------------------------------------------------------------\u001b[0m",
      "\u001b[0;31merror\u001b[0m                                     Traceback (most recent call last)",
      "Cell \u001b[0;32mIn[14], line 23\u001b[0m\n\u001b[1;32m     20\u001b[0m \u001b[38;5;28;01mif\u001b[39;00m m \u001b[38;5;241m==\u001b[39m \u001b[38;5;124m'\u001b[39m\u001b[38;5;124mrl\u001b[39m\u001b[38;5;124m'\u001b[39m:\n\u001b[1;32m     21\u001b[0m     p\u001b[38;5;241m.\u001b[39mrot \u001b[38;5;241m=\u001b[39m (p\u001b[38;5;241m.\u001b[39mrot \u001b[38;5;241m-\u001b[39m \u001b[38;5;241m1\u001b[39m) \u001b[38;5;241m%\u001b[39m p\u001b[38;5;241m.\u001b[39mpdata\u001b[38;5;241m.\u001b[39mnum_rot\n\u001b[0;32m---> 23\u001b[0m \u001b[43mg\u001b[49m\u001b[38;5;241;43m.\u001b[39;49m\u001b[43mdraw\u001b[49m\u001b[43m(\u001b[49m\u001b[43mlast_state\u001b[49m\u001b[43m,\u001b[49m\u001b[43m \u001b[49m\u001b[43mp\u001b[49m\u001b[43m)\u001b[49m\n\u001b[1;32m     25\u001b[0m \u001b[38;5;28;01mfor\u001b[39;00m event \u001b[38;5;129;01min\u001b[39;00m pygame\u001b[38;5;241m.\u001b[39mevent\u001b[38;5;241m.\u001b[39mget():\n\u001b[1;32m     26\u001b[0m     \u001b[38;5;28;01mif\u001b[39;00m event\u001b[38;5;241m.\u001b[39mtype \u001b[38;5;241m==\u001b[39m pygame\u001b[38;5;241m.\u001b[39mQUIT:\n",
      "File \u001b[0;32m~/projects/notebooks/tetris-ai/gui/gui.py:76\u001b[0m, in \u001b[0;36mGui.draw\u001b[0;34m(self, field, piece)\u001b[0m\n\u001b[1;32m     73\u001b[0m \u001b[38;5;28;01mexcept\u001b[39;00m \u001b[38;5;167;01mKeyboardInterrupt\u001b[39;00m:\n\u001b[1;32m     74\u001b[0m     \u001b[38;5;28;01mpass\u001b[39;00m\n\u001b[0;32m---> 76\u001b[0m \u001b[38;5;28;43mself\u001b[39;49m\u001b[38;5;241;43m.\u001b[39;49m\u001b[43mwin\u001b[49m\u001b[38;5;241;43m.\u001b[39;49m\u001b[43mfill\u001b[49m\u001b[43m(\u001b[49m\u001b[43mcolor\u001b[49m\u001b[38;5;241;43m.\u001b[39;49m\u001b[43mBLACK\u001b[49m\u001b[43m)\u001b[49m\n\u001b[1;32m     77\u001b[0m \u001b[38;5;28mself\u001b[39m\u001b[38;5;241m.\u001b[39mbackground\u001b[38;5;241m.\u001b[39mdraw(\u001b[38;5;28mself\u001b[39m\u001b[38;5;241m.\u001b[39mwin)\n\u001b[1;32m     79\u001b[0m \u001b[38;5;28mself\u001b[39m\u001b[38;5;241m.\u001b[39mwin\u001b[38;5;241m.\u001b[39mblit(\u001b[38;5;28mself\u001b[39m\u001b[38;5;241m.\u001b[39mgrid_background, ((WIN_SIZE[\u001b[38;5;241m0\u001b[39m] \u001b[38;5;241m/\u001b[39m \u001b[38;5;241m2\u001b[39m \u001b[38;5;241m-\u001b[39m (CELL_SIZE \u001b[38;5;241m*\u001b[39m \u001b[38;5;241m10\u001b[39m \u001b[38;5;241m+\u001b[39m FIELD_UPPER_MARGIN \u001b[38;5;241m*\u001b[39m \u001b[38;5;241m2\u001b[39m) \u001b[38;5;241m/\u001b[39m \u001b[38;5;241m2\u001b[39m, \u001b[38;5;241m0\u001b[39m)))\n",
      "\u001b[0;31merror\u001b[0m: display Surface quit"
     ]
    }
   ],
   "source": [
    "g = gui.gui.Gui(sleep=15)\n",
    "\n",
    "last_state = np.ones((20,10)) * -1\n",
    "\n",
    "time.sleep(5)\n",
    "\n",
    "for state, move, piece, clears in run: #runs[0]:\n",
    "    p = Piece(piece)\n",
    "    \n",
    "    for m in move:\n",
    "        if m == 'ml':\n",
    "            p.pos[1] -= 1\n",
    "        if m == 'mr':\n",
    "            p.pos[1] += 1\n",
    "        if m == 'sd':\n",
    "            p.pos[0] += 1\n",
    "\n",
    "        if m == 'rr':\n",
    "            p.rot = (p.rot + 1) % p.pdata.num_rot\n",
    "        if m == 'rl':\n",
    "            p.rot = (p.rot - 1) % p.pdata.num_rot\n",
    "                      \n",
    "        g.draw(last_state, p)\n",
    "        \n",
    "        for event in pygame.event.get():\n",
    "            if event.type == pygame.QUIT:\n",
    "                pygame.quit()\n",
    "    \n",
    "    if clears[0] == 4:\n",
    "        g.play_sound_quad()\n",
    "    elif clears[1] and clears[0] > 0:\n",
    "        g.play_sound_tspin()\n",
    "    elif clears[2]:\n",
    "        pass # all-clear\n",
    "    elif clears[0] > 0:\n",
    "        g.play_sound_clear()\n",
    "    \n",
    "    last_state = state"
   ]
  },
  {
   "cell_type": "code",
   "execution_count": null,
   "id": "cd518a27-35db-4256-aa5f-d9ea93d7cf97",
   "metadata": {},
   "outputs": [],
   "source": [
    "pygame.quit()"
   ]
  }
 ],
 "metadata": {
  "kernelspec": {
   "display_name": "Python 3 (ipykernel)",
   "language": "python",
   "name": "python3"
  },
  "language_info": {
   "codemirror_mode": {
    "name": "ipython",
    "version": 3
   },
   "file_extension": ".py",
   "mimetype": "text/x-python",
   "name": "python",
   "nbconvert_exporter": "python",
   "pygments_lexer": "ipython3",
   "version": "3.9.15"
  }
 },
 "nbformat": 4,
 "nbformat_minor": 5
}
