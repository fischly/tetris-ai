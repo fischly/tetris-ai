{
 "cells": [
  {
   "cell_type": "code",
   "execution_count": 1,
   "id": "c78356da-7583-4dc7-8298-2a246a56f810",
   "metadata": {},
   "outputs": [],
   "source": [
    "from collections import deque\n",
    "import numpy as np\n",
    "import pandas as pd\n",
    "import seaborn as sns\n",
    "import random\n",
    "import pickle\n",
    "import glob\n",
    "\n",
    "from matplotlib import pyplot as plt\n",
    "from tqdm.notebook import tqdm\n",
    "\n",
    "import wandb\n",
    "\n",
    "from tetris.Environment import TetrisEnv\n",
    "from util.decaying import DecayingLinear"
   ]
  },
  {
   "cell_type": "code",
   "execution_count": null,
   "id": "aaacfdbf-c9c1-44d2-a1d5-54ef26284280",
   "metadata": {},
   "outputs": [],
   "source": [
    "        "
   ]
  },
  {
   "cell_type": "code",
   "execution_count": 2,
   "id": "c788ed4a-e6ed-4a99-8794-52d7d460afd1",
   "metadata": {},
   "outputs": [],
   "source": [
    "POPULATION_SIZE = 50\n",
    "ELITE_SIZE = 3  # elite-selection (copy first n-th directly without any recombination/mutation)\n",
    "\n",
    "TOURNAMENT_SIZE = 3\n",
    "TOURNAMENT_RANGE = np.arange(POPULATION_SIZE)\n",
    "\n",
    "GENOM_SIZE = 25\n",
    "\n",
    "MOVE_AMOUNT_CAP = 400"
   ]
  },
  {
   "cell_type": "code",
   "execution_count": 3,
   "id": "8a65b792-4ee1-428a-b945-93863e2f3733",
   "metadata": {},
   "outputs": [],
   "source": [
    "env = TetrisEnv()\n",
    "mutation_rate = DecayingLinear(2, 0.5, 10)"
   ]
  },
  {
   "cell_type": "code",
   "execution_count": 4,
   "id": "af4e57d7-9ee8-471e-83c2-a11427fbd31d",
   "metadata": {},
   "outputs": [],
   "source": [
    "# sadly slower:\n",
    "# def tournament_selection_1(fitnesses):\n",
    "#     tournament = np.random.choice(TOURNAMENT_RANGE, size=TOURNAMENT_SIZE, replace=False)\n",
    "    \n",
    "#     return tournament[np.argmax(np.take(fitnesses, tournament))]\n",
    "\n",
    "def tournament_selection(fitnesses):\n",
    "    attended = []\n",
    "    best_fitness = -1000\n",
    "    best_participant = -1\n",
    "    \n",
    "    for _ in range(TOURNAMENT_SIZE):\n",
    "        participant = random.randrange(POPULATION_SIZE)\n",
    "        \n",
    "        while participant in attended:\n",
    "            participant = random.randrange(POPULATION_SIZE)\n",
    "            \n",
    "        attended.append(participant)\n",
    "        \n",
    "        if fitnesses[participant] > best_fitness:\n",
    "            best_fitness = fitnesses[participant]\n",
    "            best_participant = participant\n",
    "    \n",
    "    return best_participant\n",
    "\n",
    "def tournament_selection_parents(fitnesses):\n",
    "    p1 = tournament_selection(fitnesses)\n",
    "    p2 = tournament_selection(fitnesses)\n",
    "    \n",
    "    while p2 == p1:\n",
    "        p2 = tournament_selection(fitnesses)\n",
    "    \n",
    "    return p1, p2"
   ]
  },
  {
   "cell_type": "code",
   "execution_count": 5,
   "id": "ec435428-fb93-47b0-a33e-7b2bc180e7f6",
   "metadata": {},
   "outputs": [],
   "source": [
    "def get_best_state(heuristics, genome):\n",
    "    weighted = np.multiply(heuristics, genome)\n",
    "    \n",
    "    # linear\n",
    "    linear = np.sum(weighted, axis=1)\n",
    "    # todo: test others\n",
    "    \n",
    "    return np.argmax(linear)"
   ]
  },
  {
   "cell_type": "code",
   "execution_count": 6,
   "id": "bbf05ef9-8479-47f0-890d-5f46e68a2966",
   "metadata": {},
   "outputs": [],
   "source": [
    "def crossover(parent1, parent2):\n",
    "    cut_point = random.randrange(GENOM_SIZE)\n",
    "    \n",
    "    child1 =  np.concatenate([parent1[:cut_point], parent2[cut_point:]])\n",
    "    child2 =  np.concatenate([parent2[:cut_point], parent1[cut_point:]])\n",
    "    \n",
    "    return child1, child2\n",
    "\n",
    "def two_point_crossover(parent1, parent2):\n",
    "    return crossover(*crossover(parent1, parent2))"
   ]
  },
  {
   "cell_type": "code",
   "execution_count": 7,
   "id": "89dfe77d-76bc-4dfe-9965-7b7df34cf996",
   "metadata": {},
   "outputs": [],
   "source": [
    "def mutate(genome):\n",
    "    # use normal distribution to mutate\n",
    "    return np.multiply(np.random.normal(1, mutation_rate.get(), size=(GENOM_SIZE)), genome) "
   ]
  },
  {
   "cell_type": "code",
   "execution_count": 8,
   "id": "0ec0369f-4462-4ca8-b7bf-4de60bc8429a",
   "metadata": {},
   "outputs": [],
   "source": [
    "def determine_fitness(genome, print_debug=False):\n",
    "    env.reset()\n",
    "    \n",
    "    while True:\n",
    "        states, scores, clears, heuristics, dones = env.get_next_states()\n",
    "        \n",
    "        chosen_index = get_best_state(heuristics, genome)\n",
    "        \n",
    "        if dones[chosen_index] or env.moves >= MOVE_AMOUNT_CAP:\n",
    "            if print_debug:\n",
    "                print(f'Score: {env.score}')\n",
    "                print(f'Moves: {env.moves}, Clears: {env.clears}, t-spins: {env.tspins}, all_clears: {env.all_clears}')\n",
    "            \n",
    "            wandb.log({'game/score': env.score, 'game/moves': env.moves, 'game/tspins': env.tspins, 'game/all_clears': env.all_clears, \n",
    "                   'game/singles': env.clears[0], 'game/doubles': env.clears[1], 'game/triples': env.clears[2], 'game/quads': env.clears[3],\n",
    "            })\n",
    "            \n",
    "            return env.score + env.moves  # also use moves so it has a starting point\n",
    "        else:\n",
    "            env.step(states[chosen_index], clears[chosen_index], scores[chosen_index])"
   ]
  },
  {
   "cell_type": "code",
   "execution_count": 9,
   "id": "4124a7be-c9a5-438b-a0b6-2c841e7ee61a",
   "metadata": {},
   "outputs": [],
   "source": [
    "def get_elite(genomes, fitnesses):\n",
    "    indices = np.argsort(fitnesses)[-ELITE_SIZE:]\n",
    "    \n",
    "    return np.take(genomes, indices, axis=0), np.take(fitnesses, indices, axis=0)"
   ]
  },
  {
   "cell_type": "code",
   "execution_count": 10,
   "id": "2f7a0afe-19db-4069-95fb-d0d10a88a2d5",
   "metadata": {},
   "outputs": [],
   "source": [
    "def generate_random_population():\n",
    "    genomes = np.abs(np.random.normal(2.5, size=(POPULATION_SIZE, GENOM_SIZE)))\n",
    "    fitnesses = np.array([determine_fitness(genome) for genome in genomes])\n",
    "    \n",
    "    return genomes, fitnesses "
   ]
  },
  {
   "cell_type": "markdown",
   "id": "87865691-c8e0-4b89-9ec9-8bf34b3115fe",
   "metadata": {},
   "source": [
    "### Training loop"
   ]
  },
  {
   "cell_type": "code",
   "execution_count": 11,
   "id": "c44e6af9-366e-4f1a-8642-d0ad06719400",
   "metadata": {},
   "outputs": [
    {
     "name": "stderr",
     "output_type": "stream",
     "text": [
      "\u001b[34m\u001b[1mwandb\u001b[0m: Currently logged in as: \u001b[33mfischly\u001b[0m. Use \u001b[1m`wandb login --relogin`\u001b[0m to force relogin\n"
     ]
    },
    {
     "data": {
      "text/html": [
       "wandb version 0.13.10 is available!  To upgrade, please run:\n",
       " $ pip install wandb --upgrade"
      ],
      "text/plain": [
       "<IPython.core.display.HTML object>"
      ]
     },
     "metadata": {},
     "output_type": "display_data"
    },
    {
     "data": {
      "text/html": [
       "Tracking run with wandb version 0.13.9"
      ],
      "text/plain": [
       "<IPython.core.display.HTML object>"
      ]
     },
     "metadata": {},
     "output_type": "display_data"
    },
    {
     "data": {
      "text/html": [
       "Run data is saved locally in <code>/home/fischly/projects/notebooks/tetris-ai/wandb/run-20230213_174715-mo0ytxql</code>"
      ],
      "text/plain": [
       "<IPython.core.display.HTML object>"
      ]
     },
     "metadata": {},
     "output_type": "display_data"
    },
    {
     "data": {
      "text/html": [
       "Syncing run <strong><a href=\"https://wandb.ai/fischly/tetris-genetic/runs/mo0ytxql\" target=\"_blank\">lyric-elevator-11</a></strong> to <a href=\"https://wandb.ai/fischly/tetris-genetic\" target=\"_blank\">Weights & Biases</a> (<a href=\"https://wandb.me/run\" target=\"_blank\">docs</a>)<br/>"
      ],
      "text/plain": [
       "<IPython.core.display.HTML object>"
      ]
     },
     "metadata": {},
     "output_type": "display_data"
    },
    {
     "data": {
      "text/html": [
       " View project at <a href=\"https://wandb.ai/fischly/tetris-genetic\" target=\"_blank\">https://wandb.ai/fischly/tetris-genetic</a>"
      ],
      "text/plain": [
       "<IPython.core.display.HTML object>"
      ]
     },
     "metadata": {},
     "output_type": "display_data"
    },
    {
     "data": {
      "text/html": [
       " View run at <a href=\"https://wandb.ai/fischly/tetris-genetic/runs/mo0ytxql\" target=\"_blank\">https://wandb.ai/fischly/tetris-genetic/runs/mo0ytxql</a>"
      ],
      "text/plain": [
       "<IPython.core.display.HTML object>"
      ]
     },
     "metadata": {},
     "output_type": "display_data"
    },
    {
     "data": {
      "text/html": [
       "<button onClick=\"this.nextSibling.style.display='block';this.style.display='none';\">Display W&B run</button><iframe src=\"https://wandb.ai/fischly/tetris-genetic/runs/mo0ytxql?jupyter=true\" style=\"border:none;width:100%;height:420px;display:none;\"></iframe>"
      ],
      "text/plain": [
       "<wandb.sdk.wandb_run.Run at 0x7f91720ada60>"
      ]
     },
     "execution_count": 11,
     "metadata": {},
     "output_type": "execute_result"
    }
   ],
   "source": [
    "wandb.init(project='tetris-genetic', config={ 'POPULATION_SIZE': POPULATION_SIZE, 'ELITE_SIZE': ELITE_SIZE, 'TOURNAMENT_SIZE': TOURNAMENT_SIZE, 'GENOM_SIZE': GENOM_SIZE, 'MOVE_AMOUNT_CAP': MOVE_AMOUNT_CAP })"
   ]
  },
  {
   "cell_type": "code",
   "execution_count": 12,
   "id": "3421dd8e-e1ce-4e97-bb06-fd6c2ab02c9f",
   "metadata": {},
   "outputs": [],
   "source": [
    "population, fitnesses = generate_random_population()"
   ]
  },
  {
   "cell_type": "code",
   "execution_count": 13,
   "id": "0efc00e0-e18c-4188-96af-54121f274d3a",
   "metadata": {},
   "outputs": [
    {
     "data": {
      "application/vnd.jupyter.widget-view+json": {
       "model_id": "29f89ae232d94e04b59c61937648bea7",
       "version_major": 2,
       "version_minor": 0
      },
      "text/plain": [
       "  0%|          | 0/47 [00:00<?, ?it/s]"
      ]
     },
     "metadata": {},
     "output_type": "display_data"
    },
    {
     "name": "stdout",
     "output_type": "stream",
     "text": [
      "GENERATION 0 DONE! Max fitness: 834\n"
     ]
    },
    {
     "data": {
      "application/vnd.jupyter.widget-view+json": {
       "model_id": "2684442bbeab44bd86d8435f596ce857",
       "version_major": 2,
       "version_minor": 0
      },
      "text/plain": [
       "  0%|          | 0/47 [00:00<?, ?it/s]"
      ]
     },
     "metadata": {},
     "output_type": "display_data"
    },
    {
     "name": "stdout",
     "output_type": "stream",
     "text": [
      "GENERATION 1 DONE! Max fitness: 474\n"
     ]
    },
    {
     "data": {
      "application/vnd.jupyter.widget-view+json": {
       "model_id": "ae4f0f5ad11b40b68876037f7773bd65",
       "version_major": 2,
       "version_minor": 0
      },
      "text/plain": [
       "  0%|          | 0/47 [00:00<?, ?it/s]"
      ]
     },
     "metadata": {},
     "output_type": "display_data"
    },
    {
     "name": "stdout",
     "output_type": "stream",
     "text": [
      "GENERATION 2 DONE! Max fitness: 1634\n"
     ]
    },
    {
     "data": {
      "application/vnd.jupyter.widget-view+json": {
       "model_id": "05166ab9822949ba8e9e378f991aaa31",
       "version_major": 2,
       "version_minor": 0
      },
      "text/plain": [
       "  0%|          | 0/47 [00:00<?, ?it/s]"
      ]
     },
     "metadata": {},
     "output_type": "display_data"
    },
    {
     "name": "stdout",
     "output_type": "stream",
     "text": [
      "GENERATION 3 DONE! Max fitness: 3667\n"
     ]
    },
    {
     "data": {
      "application/vnd.jupyter.widget-view+json": {
       "model_id": "5d9178998b3f4ea79a90e9e9bb8fbc5c",
       "version_major": 2,
       "version_minor": 0
      },
      "text/plain": [
       "  0%|          | 0/47 [00:00<?, ?it/s]"
      ]
     },
     "metadata": {},
     "output_type": "display_data"
    },
    {
     "name": "stdout",
     "output_type": "stream",
     "text": [
      "GENERATION 4 DONE! Max fitness: 13437\n"
     ]
    },
    {
     "data": {
      "application/vnd.jupyter.widget-view+json": {
       "model_id": "b1d111d0738e4699a4253a37add6e421",
       "version_major": 2,
       "version_minor": 0
      },
      "text/plain": [
       "  0%|          | 0/47 [00:00<?, ?it/s]"
      ]
     },
     "metadata": {},
     "output_type": "display_data"
    },
    {
     "name": "stdout",
     "output_type": "stream",
     "text": [
      "GENERATION 5 DONE! Max fitness: 6762\n"
     ]
    },
    {
     "data": {
      "application/vnd.jupyter.widget-view+json": {
       "model_id": "62f90d2778294b78923d2fb886a74d7e",
       "version_major": 2,
       "version_minor": 0
      },
      "text/plain": [
       "  0%|          | 0/47 [00:00<?, ?it/s]"
      ]
     },
     "metadata": {},
     "output_type": "display_data"
    },
    {
     "name": "stdout",
     "output_type": "stream",
     "text": [
      "GENERATION 6 DONE! Max fitness: 7325\n"
     ]
    },
    {
     "data": {
      "application/vnd.jupyter.widget-view+json": {
       "model_id": "f1333daa0c564f5bbf69f09293a04b36",
       "version_major": 2,
       "version_minor": 0
      },
      "text/plain": [
       "  0%|          | 0/47 [00:00<?, ?it/s]"
      ]
     },
     "metadata": {},
     "output_type": "display_data"
    },
    {
     "name": "stdout",
     "output_type": "stream",
     "text": [
      "GENERATION 7 DONE! Max fitness: 7538\n"
     ]
    },
    {
     "data": {
      "application/vnd.jupyter.widget-view+json": {
       "model_id": "f180e44f014b4bcdae1c2241c08e1a17",
       "version_major": 2,
       "version_minor": 0
      },
      "text/plain": [
       "  0%|          | 0/47 [00:00<?, ?it/s]"
      ]
     },
     "metadata": {},
     "output_type": "display_data"
    },
    {
     "name": "stdout",
     "output_type": "stream",
     "text": [
      "GENERATION 8 DONE! Max fitness: 14862\n"
     ]
    },
    {
     "data": {
      "application/vnd.jupyter.widget-view+json": {
       "model_id": "2cb3cfe200d84f4caf6ea3202d18abac",
       "version_major": 2,
       "version_minor": 0
      },
      "text/plain": [
       "  0%|          | 0/47 [00:00<?, ?it/s]"
      ]
     },
     "metadata": {},
     "output_type": "display_data"
    },
    {
     "name": "stdout",
     "output_type": "stream",
     "text": [
      "GENERATION 9 DONE! Max fitness: 6050\n"
     ]
    },
    {
     "data": {
      "application/vnd.jupyter.widget-view+json": {
       "model_id": "350d49537d2841efb88f72519c87850e",
       "version_major": 2,
       "version_minor": 0
      },
      "text/plain": [
       "  0%|          | 0/47 [00:00<?, ?it/s]"
      ]
     },
     "metadata": {},
     "output_type": "display_data"
    },
    {
     "name": "stdout",
     "output_type": "stream",
     "text": [
      "GENERATION 10 DONE! Max fitness: 6488\n"
     ]
    },
    {
     "data": {
      "application/vnd.jupyter.widget-view+json": {
       "model_id": "d2be64b2fb594da4921cce1ed9ec67a2",
       "version_major": 2,
       "version_minor": 0
      },
      "text/plain": [
       "  0%|          | 0/47 [00:00<?, ?it/s]"
      ]
     },
     "metadata": {},
     "output_type": "display_data"
    },
    {
     "name": "stdout",
     "output_type": "stream",
     "text": [
      "GENERATION 11 DONE! Max fitness: 11490\n"
     ]
    },
    {
     "data": {
      "application/vnd.jupyter.widget-view+json": {
       "model_id": "a70c70f162dc416aa55913054235c8c0",
       "version_major": 2,
       "version_minor": 0
      },
      "text/plain": [
       "  0%|          | 0/47 [00:00<?, ?it/s]"
      ]
     },
     "metadata": {},
     "output_type": "display_data"
    },
    {
     "name": "stdout",
     "output_type": "stream",
     "text": [
      "GENERATION 12 DONE! Max fitness: 9925\n"
     ]
    },
    {
     "data": {
      "application/vnd.jupyter.widget-view+json": {
       "model_id": "43c6a565db404070b71107ed92382154",
       "version_major": 2,
       "version_minor": 0
      },
      "text/plain": [
       "  0%|          | 0/47 [00:00<?, ?it/s]"
      ]
     },
     "metadata": {},
     "output_type": "display_data"
    },
    {
     "name": "stdout",
     "output_type": "stream",
     "text": [
      "GENERATION 13 DONE! Max fitness: 5975\n"
     ]
    },
    {
     "data": {
      "application/vnd.jupyter.widget-view+json": {
       "model_id": "c97d5e0936dc41aab9a8594cd4c6cf41",
       "version_major": 2,
       "version_minor": 0
      },
      "text/plain": [
       "  0%|          | 0/47 [00:00<?, ?it/s]"
      ]
     },
     "metadata": {},
     "output_type": "display_data"
    },
    {
     "name": "stdout",
     "output_type": "stream",
     "text": [
      "GENERATION 14 DONE! Max fitness: 10375\n"
     ]
    },
    {
     "data": {
      "application/vnd.jupyter.widget-view+json": {
       "model_id": "d36586d4eb6b4a52a82d1fa2c1e6c286",
       "version_major": 2,
       "version_minor": 0
      },
      "text/plain": [
       "  0%|          | 0/47 [00:00<?, ?it/s]"
      ]
     },
     "metadata": {},
     "output_type": "display_data"
    },
    {
     "name": "stdout",
     "output_type": "stream",
     "text": [
      "GENERATION 15 DONE! Max fitness: 11625\n"
     ]
    },
    {
     "data": {
      "application/vnd.jupyter.widget-view+json": {
       "model_id": "1a20e69707494c10a3474e405a9b917f",
       "version_major": 2,
       "version_minor": 0
      },
      "text/plain": [
       "  0%|          | 0/47 [00:00<?, ?it/s]"
      ]
     },
     "metadata": {},
     "output_type": "display_data"
    },
    {
     "name": "stdout",
     "output_type": "stream",
     "text": [
      "GENERATION 16 DONE! Max fitness: 11200\n"
     ]
    },
    {
     "data": {
      "application/vnd.jupyter.widget-view+json": {
       "model_id": "fd391b1fc0ea43828b60c95dba1e55fd",
       "version_major": 2,
       "version_minor": 0
      },
      "text/plain": [
       "  0%|          | 0/47 [00:00<?, ?it/s]"
      ]
     },
     "metadata": {},
     "output_type": "display_data"
    },
    {
     "name": "stdout",
     "output_type": "stream",
     "text": [
      "GENERATION 17 DONE! Max fitness: 12175\n"
     ]
    },
    {
     "data": {
      "application/vnd.jupyter.widget-view+json": {
       "model_id": "247f0c3163f74cef9e12dd44f5ddb162",
       "version_major": 2,
       "version_minor": 0
      },
      "text/plain": [
       "  0%|          | 0/47 [00:00<?, ?it/s]"
      ]
     },
     "metadata": {},
     "output_type": "display_data"
    },
    {
     "name": "stdout",
     "output_type": "stream",
     "text": [
      "GENERATION 18 DONE! Max fitness: 10300\n"
     ]
    },
    {
     "data": {
      "application/vnd.jupyter.widget-view+json": {
       "model_id": "7b91a83d8f56433683bcf944b5cf1cf1",
       "version_major": 2,
       "version_minor": 0
      },
      "text/plain": [
       "  0%|          | 0/47 [00:00<?, ?it/s]"
      ]
     },
     "metadata": {},
     "output_type": "display_data"
    },
    {
     "name": "stdout",
     "output_type": "stream",
     "text": [
      "GENERATION 19 DONE! Max fitness: 10150\n"
     ]
    },
    {
     "data": {
      "application/vnd.jupyter.widget-view+json": {
       "model_id": "b55da9c138304e2c866a5aa3505e5ecd",
       "version_major": 2,
       "version_minor": 0
      },
      "text/plain": [
       "  0%|          | 0/47 [00:00<?, ?it/s]"
      ]
     },
     "metadata": {},
     "output_type": "display_data"
    },
    {
     "name": "stdout",
     "output_type": "stream",
     "text": [
      "GENERATION 20 DONE! Max fitness: 14707\n"
     ]
    }
   ],
   "source": [
    "\n",
    "\n",
    "for generation in range(21):\n",
    "    children_genomes = []\n",
    "    children_fitnesses = []\n",
    "\n",
    "    with tqdm(total=POPULATION_SIZE - ELITE_SIZE) as pbar:\n",
    "        while len(children_genomes) < POPULATION_SIZE - ELITE_SIZE:\n",
    "            # parent selection\n",
    "            parent1, parent2 = tournament_selection_parents(fitnesses)\n",
    "            parent1, parent2 = population[parent1], population[parent2]\n",
    "\n",
    "            # recombination\n",
    "            child1, child2 = two_point_crossover(parent1, parent2)\n",
    "\n",
    "            # mutation\n",
    "            child1, child2 = mutate(child1), mutate(child2)\n",
    "\n",
    "            # fitness evaluation\n",
    "            child1_fitness, child2_fitness = determine_fitness(child1), determine_fitness(child2)\n",
    "\n",
    "            # store children\n",
    "            children_fitnesses.append(child1_fitness)\n",
    "            children_fitnesses.append(child2_fitness)\n",
    "            \n",
    "            wandb.log({ 'genetic/generation': generation, 'genetic/fitness': child1_fitness})\n",
    "            wandb.log({ 'genetic/generation': generation, 'genetic/fitness': child1_fitness})\n",
    "\n",
    "            children_genomes.append(child1)\n",
    "            children_genomes.append(child2)\n",
    "            \n",
    "            pbar.update(2)\n",
    "    \n",
    "    \n",
    "    # update population    \n",
    "    elite_genomes, elite_fitnesses = get_elite(population, fitnesses)\n",
    "    \n",
    "    wandb.log({ 'elite/generation': generation, 'elite/fitness': elite_fitnesses[2]})\n",
    "    wandb.log({ 'elite/generation': generation, 'elite/fitness': elite_fitnesses[1]})\n",
    "    wandb.log({ 'elite/generation': generation, 'elite/fitness': elite_fitnesses[0]})\n",
    "    \n",
    "    \n",
    "    population[:ELITE_SIZE] = elite_genomes\n",
    "    fitnesses[:ELITE_SIZE] = [determine_fitness(elite_genome) for elite_genome in elite_genomes]\n",
    "    \n",
    "    population[ELITE_SIZE:] = children_genomes[:POPULATION_SIZE - ELITE_SIZE]\n",
    "    fitnesses[ELITE_SIZE:] = children_fitnesses[:POPULATION_SIZE - ELITE_SIZE]\n",
    "    \n",
    "    print(f'GENERATION {generation} DONE! Max fitness: {np.max(fitnesses)}')\n",
    "    \n",
    "    mutation_rate.step()\n",
    "    \n",
    "# env.get_next_states()"
   ]
  },
  {
   "cell_type": "code",
   "execution_count": 14,
   "id": "ae5926f0-439c-4bd3-b990-6a6fd9923847",
   "metadata": {},
   "outputs": [],
   "source": [
    "elite_genomes, elite_fitnesses = get_elite(population, fitnesses)"
   ]
  },
  {
   "cell_type": "code",
   "execution_count": 15,
   "id": "c0f7f7f6-faf5-4ed4-a5fd-1673e1ce30b2",
   "metadata": {},
   "outputs": [],
   "source": [
    "# for n in elite_genomes[2]:\n",
    "    # print(\"{:02f}\".format(n))"
   ]
  },
  {
   "cell_type": "code",
   "execution_count": 20,
   "id": "d1621869-2030-449f-bda3-e958ca6f1a75",
   "metadata": {},
   "outputs": [
    {
     "name": "stdout",
     "output_type": "stream",
     "text": [
      "Score: 2875.0\n",
      "Moves: 181, Clears: [22, 7, 5, 2], t-spins: 0, all_clears: 0\n"
     ]
    },
    {
     "data": {
      "text/plain": [
       "3056.0"
      ]
     },
     "execution_count": 20,
     "metadata": {},
     "output_type": "execute_result"
    },
    {
     "name": "stderr",
     "output_type": "stream",
     "text": [
      "wandb: Waiting for W&B process to finish... (success).\n",
      "wandb: - 0.002 MB of 0.002 MB uploaded (0.000 MB deduped)\r"
     ]
    }
   ],
   "source": [
    "determine_fitness(elite_genomes[2], True)"
   ]
  },
  {
   "cell_type": "code",
   "execution_count": 17,
   "id": "32c5f0a6-133c-41aa-889e-3a764132983f",
   "metadata": {},
   "outputs": [],
   "source": [
    "# save run\n",
    "np.savetxt('models/genetic-300limit-5.txt', elite_genomes, fmt='%f')"
   ]
  },
  {
   "cell_type": "code",
   "execution_count": 18,
   "id": "e074a3d0-3a6a-4ea6-8999-8cb5e6e1547d",
   "metadata": {},
   "outputs": [],
   "source": [
    "np.savetxt('models/genetic-300limit-5-FULL.txt', population, fmt='%f')"
   ]
  }
 ],
 "metadata": {
  "kernelspec": {
   "display_name": "Python 3 (ipykernel)",
   "language": "python",
   "name": "python3"
  },
  "language_info": {
   "codemirror_mode": {
    "name": "ipython",
    "version": 3
   },
   "file_extension": ".py",
   "mimetype": "text/x-python",
   "name": "python",
   "nbconvert_exporter": "python",
   "pygments_lexer": "ipython3",
   "version": "3.9.15"
  }
 },
 "nbformat": 4,
 "nbformat_minor": 5
}
