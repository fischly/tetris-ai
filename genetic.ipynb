{
 "cells": [
  {
   "cell_type": "code",
   "execution_count": null,
   "id": "c78356da-7583-4dc7-8298-2a246a56f810",
   "metadata": {},
   "outputs": [],
   "source": [
    "from collections import deque\n",
    "import numpy as np\n",
    "import pandas as pd\n",
    "import seaborn as sns\n",
    "import random\n",
    "import pickle\n",
    "import glob\n",
    "\n",
    "from matplotlib import pyplot as plt\n",
    "from tqdm.notebook import tqdm\n",
    "\n",
    "import wandb\n",
    "\n",
    "from tetris.Environment import TetrisEnv\n",
    "from util.decaying import DecayingLinear"
   ]
  },
  {
   "cell_type": "code",
   "execution_count": null,
   "id": "c788ed4a-e6ed-4a99-8794-52d7d460afd1",
   "metadata": {},
   "outputs": [],
   "source": [
    "POPULATION_SIZE = 50\n",
    "ELITE_SIZE = 3  # elite-selection (copy first n-th directly without any recombination/mutation)\n",
    "\n",
    "TOURNAMENT_SIZE = 3\n",
    "TOURNAMENT_RANGE = np.arange(POPULATION_SIZE)\n",
    "\n",
    "GENOM_SIZE = 25\n",
    "\n",
    "MOVE_AMOUNT_CAP = 400\n",
    "\n",
    "MUTATION_RATE_START = 2\n",
    "MUTATION_RATE_END = 0.2\n",
    "MUTATION_RATE_DURATION = 10  # in generation"
   ]
  },
  {
   "cell_type": "code",
   "execution_count": null,
   "id": "8a65b792-4ee1-428a-b945-93863e2f3733",
   "metadata": {},
   "outputs": [],
   "source": [
    "env = TetrisEnv()"
   ]
  },
  {
   "cell_type": "code",
   "execution_count": null,
   "id": "af4e57d7-9ee8-471e-83c2-a11427fbd31d",
   "metadata": {},
   "outputs": [],
   "source": [
    "# sadly slower:\n",
    "# def tournament_selection_1(fitnesses):\n",
    "#     tournament = np.random.choice(TOURNAMENT_RANGE, size=TOURNAMENT_SIZE, replace=False)\n",
    "    \n",
    "#     return tournament[np.argmax(np.take(fitnesses, tournament))]\n",
    "\n",
    "def tournament_selection(fitnesses):\n",
    "    \"\"\"Selects an invidivual by using tournament selection and returns the individual's index.\"\"\"\n",
    "    attended = []\n",
    "    best_fitness = -1000\n",
    "    best_participant = -1\n",
    "    \n",
    "    for _ in range(TOURNAMENT_SIZE):\n",
    "        participant = random.randrange(POPULATION_SIZE)\n",
    "        \n",
    "        while participant in attended:\n",
    "            participant = random.randrange(POPULATION_SIZE)\n",
    "            \n",
    "        attended.append(participant)\n",
    "        \n",
    "        if fitnesses[participant] > best_fitness:\n",
    "            best_fitness = fitnesses[participant]\n",
    "            best_participant = participant\n",
    "    \n",
    "    return best_participant\n",
    "\n",
    "def tournament_selection_parents(fitnesses):\n",
    "    \"\"\"Selects two individuals using tournament selection. It is made sure that the same individual is not chosen twice.\"\"\"\n",
    "    p1 = tournament_selection(fitnesses)\n",
    "    p2 = tournament_selection(fitnesses)\n",
    "    \n",
    "    while p2 == p1:\n",
    "        p2 = tournament_selection(fitnesses)\n",
    "    \n",
    "    return p1, p2"
   ]
  },
  {
   "cell_type": "code",
   "execution_count": null,
   "id": "ec435428-fb93-47b0-a33e-7b2bc180e7f6",
   "metadata": {},
   "outputs": [],
   "source": [
    "def get_best_state(heuristics, genome):\n",
    "    \"\"\"\n",
    "        Given a batch of heuristics, selects the best entry according to the maximum linear combinations of \n",
    "        the weighted heuristic values, where the genome is used as weights. \n",
    "    \"\"\"\n",
    "    weighted = np.multiply(heuristics, genome)\n",
    "    linear = np.sum(weighted, axis=1)\n",
    "    \n",
    "    return np.argmax(linear)"
   ]
  },
  {
   "cell_type": "code",
   "execution_count": null,
   "id": "bbf05ef9-8479-47f0-890d-5f46e68a2966",
   "metadata": {},
   "outputs": [],
   "source": [
    "def crossover(parent1, parent2):\n",
    "    \"\"\"Apply single-point crossover of the two given chromosomes.\"\"\"\n",
    "    cut_point = random.randrange(GENOM_SIZE)  # select a random cutting point\n",
    "    \n",
    "    # combine the genome of the first parent up to the cutting point with the genome of the second parent\n",
    "    # after the cutting point, and vice versa\n",
    "    child1 =  np.concatenate([parent1[:cut_point], parent2[cut_point:]])\n",
    "    child2 =  np.concatenate([parent2[:cut_point], parent1[cut_point:]])\n",
    "    \n",
    "    return child1, child2\n",
    "\n",
    "def two_point_crossover(parent1, parent2):\n",
    "    \"\"\"Two-point crossover implemented by twice applying single-point crossover.\"\"\"\n",
    "    return crossover(*crossover(parent1, parent2))"
   ]
  },
  {
   "cell_type": "code",
   "execution_count": null,
   "id": "89dfe77d-76bc-4dfe-9965-7b7df34cf996",
   "metadata": {},
   "outputs": [],
   "source": [
    "def mutate(genome):\n",
    "    \"\"\"Mutates the given chromosome by multiplying each gene with a normally distributed random value.\"\"\"\n",
    "    # use normal distribution to mutate\n",
    "    return np.multiply(np.random.normal(1, mutation_rate.get(), size=(GENOM_SIZE)), genome) "
   ]
  },
  {
   "cell_type": "code",
   "execution_count": null,
   "id": "0ec0369f-4462-4ca8-b7bf-4de60bc8429a",
   "metadata": {},
   "outputs": [],
   "source": [
    "def determine_fitness(genome, print_debug=False):\n",
    "    \"\"\"Given a genome (an invidivual), determine its fitness by simulating a game and using the end score as fitness value.\"\"\"\n",
    "    env.reset()\n",
    "    \n",
    "    # perform the best action according to the given genome, until the game is finished or the move cap has been reached\n",
    "    while True:\n",
    "        states, scores, clears, heuristics, dones = env.get_next_states()\n",
    "        \n",
    "        chosen_index = get_best_state(heuristics, genome)\n",
    "        \n",
    "        if dones[chosen_index] or env.moves >= MOVE_AMOUNT_CAP:\n",
    "            if print_debug:\n",
    "                print(f'Score: {env.score}')\n",
    "                print(f'Moves: {env.moves}, Clears: {env.clears}, t-spins: {env.tspins}, all_clears: {env.all_clears}')\n",
    "            \n",
    "            wandb.log({'game/score': env.score, 'game/moves': env.moves, 'game/tspins': env.tspins, 'game/all_clears': env.all_clears, \n",
    "                   'game/singles': env.clears[0], 'game/doubles': env.clears[1], 'game/triples': env.clears[2], 'game/quads': env.clears[3],\n",
    "            })\n",
    "            \n",
    "            return env.score + env.moves  # also use moves so the learning algorithm has something to go on in the beginning\n",
    "        else:\n",
    "            env.step(states[chosen_index], clears[chosen_index], scores[chosen_index])"
   ]
  },
  {
   "cell_type": "code",
   "execution_count": null,
   "id": "4124a7be-c9a5-438b-a0b6-2c841e7ee61a",
   "metadata": {},
   "outputs": [],
   "source": [
    "def get_elite(genomes, fitnesses):\n",
    "    \"\"\"Returns the fittest individuals of a population.\"\"\"\n",
    "    indices = np.argsort(fitnesses)[-ELITE_SIZE:]\n",
    "    \n",
    "    return np.take(genomes, indices, axis=0), np.take(fitnesses, indices, axis=0)"
   ]
  },
  {
   "cell_type": "code",
   "execution_count": null,
   "id": "2f7a0afe-19db-4069-95fb-d0d10a88a2d5",
   "metadata": {},
   "outputs": [],
   "source": [
    "def generate_random_population():\n",
    "    \"\"\"Generates a population by randomly generating genomes and determining their fitness.\"\"\"\n",
    "    genomes = np.abs(np.random.normal(2.5, size=(POPULATION_SIZE, GENOM_SIZE)))\n",
    "    fitnesses = np.array([determine_fitness(genome) for genome in genomes])\n",
    "    \n",
    "    return genomes, fitnesses "
   ]
  },
  {
   "cell_type": "markdown",
   "id": "87865691-c8e0-4b89-9ec9-8bf34b3115fe",
   "metadata": {},
   "source": [
    "### Training loop"
   ]
  },
  {
   "cell_type": "code",
   "execution_count": null,
   "id": "c44e6af9-366e-4f1a-8642-d0ad06719400",
   "metadata": {},
   "outputs": [],
   "source": [
    "wandb.init(project='tetris-genetic', config={ 'POPULATION_SIZE': POPULATION_SIZE, 'ELITE_SIZE': ELITE_SIZE, 'TOURNAMENT_SIZE': TOURNAMENT_SIZE, 'GENOM_SIZE': GENOM_SIZE, 'MOVE_AMOUNT_CAP': MOVE_AMOUNT_CAP })"
   ]
  },
  {
   "cell_type": "code",
   "execution_count": null,
   "id": "514b06a5-4f0a-478f-b4a0-4940b50478bc",
   "metadata": {},
   "outputs": [],
   "source": [
    "# initialize the decaying mutation rate\n",
    "mutation_rate = DecayingLinear(MUTATION_RATE_START, MUTATION_RATE_END, MUTATION_RATE_DURATION)"
   ]
  },
  {
   "cell_type": "code",
   "execution_count": null,
   "id": "3421dd8e-e1ce-4e97-bb06-fd6c2ab02c9f",
   "metadata": {},
   "outputs": [],
   "source": [
    "# generate the initial populations\n",
    "population, fitnesses = generate_random_population()"
   ]
  },
  {
   "cell_type": "code",
   "execution_count": null,
   "id": "0efc00e0-e18c-4188-96af-54121f274d3a",
   "metadata": {},
   "outputs": [],
   "source": [
    "for generation in range(21):\n",
    "    children_genomes = []\n",
    "    children_fitnesses = []\n",
    "\n",
    "    with tqdm(total=POPULATION_SIZE - ELITE_SIZE) as pbar:\n",
    "        while len(children_genomes) < POPULATION_SIZE - ELITE_SIZE:\n",
    "            # parent selection\n",
    "            parent1, parent2 = tournament_selection_parents(fitnesses)\n",
    "            parent1, parent2 = population[parent1], population[parent2]\n",
    "\n",
    "            # recombination\n",
    "            child1, child2 = two_point_crossover(parent1, parent2)\n",
    "\n",
    "            # mutation\n",
    "            child1, child2 = mutate(child1), mutate(child2)\n",
    "\n",
    "            # fitness evaluation\n",
    "            child1_fitness, child2_fitness = determine_fitness(child1), determine_fitness(child2)\n",
    "\n",
    "            # store children\n",
    "            children_fitnesses.append(child1_fitness)\n",
    "            children_fitnesses.append(child2_fitness)\n",
    "            \n",
    "            wandb.log({ 'genetic/generation': generation, 'genetic/fitness': child1_fitness})\n",
    "            wandb.log({ 'genetic/generation': generation, 'genetic/fitness': child1_fitness})\n",
    "\n",
    "            children_genomes.append(child1)\n",
    "            children_genomes.append(child2)\n",
    "            \n",
    "            pbar.update(2)\n",
    "    \n",
    "    \n",
    "    # update population    \n",
    "    elite_genomes, elite_fitnesses = get_elite(population, fitnesses)\n",
    "    \n",
    "    wandb.log({ 'elite/generation': generation, 'elite/fitness': elite_fitnesses[2]})\n",
    "    wandb.log({ 'elite/generation': generation, 'elite/fitness': elite_fitnesses[1]})\n",
    "    wandb.log({ 'elite/generation': generation, 'elite/fitness': elite_fitnesses[0]})\n",
    "    \n",
    "    # a few elite individuals get cloned to the next generation\n",
    "    population[:ELITE_SIZE] = elite_genomes\n",
    "    fitnesses[:ELITE_SIZE] = [determine_fitness(elite_genome) for elite_genome in elite_genomes]\n",
    "    \n",
    "    # the other spots are filled with the offspring\n",
    "    population[ELITE_SIZE:] = children_genomes[:POPULATION_SIZE - ELITE_SIZE]\n",
    "    fitnesses[ELITE_SIZE:] = children_fitnesses[:POPULATION_SIZE - ELITE_SIZE]\n",
    "    \n",
    "    print(f'GENERATION {generation} DONE! Max fitness: {np.max(fitnesses)}')\n",
    "    \n",
    "    mutation_rate.step()"
   ]
  },
  {
   "cell_type": "code",
   "execution_count": null,
   "id": "ae5926f0-439c-4bd3-b990-6a6fd9923847",
   "metadata": {},
   "outputs": [],
   "source": [
    "elite_genomes, elite_fitnesses = get_elite(population, fitnesses)"
   ]
  },
  {
   "cell_type": "code",
   "execution_count": null,
   "id": "32c5f0a6-133c-41aa-889e-3a764132983f",
   "metadata": {},
   "outputs": [],
   "source": [
    "# save runs\n",
    "np.savetxt('models/genetic-1000-singles.txt', elite_genomes[1], fmt='%f')\n",
    "np.savetxt('models/genetic-1000-singles-FULL.txt', population, fmt='%f')"
   ]
  }
 ],
 "metadata": {
  "kernelspec": {
   "display_name": "Python 3 (ipykernel)",
   "language": "python",
   "name": "python3"
  },
  "language_info": {
   "codemirror_mode": {
    "name": "ipython",
    "version": 3
   },
   "file_extension": ".py",
   "mimetype": "text/x-python",
   "name": "python",
   "nbconvert_exporter": "python",
   "pygments_lexer": "ipython3",
   "version": "3.9.15"
  }
 },
 "nbformat": 4,
 "nbformat_minor": 5
}
