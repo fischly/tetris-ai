{
 "cells": [
  {
   "cell_type": "code",
   "execution_count": 114,
   "id": "2e93345a-1e2d-45c8-bc8b-10a6f2b184a5",
   "metadata": {},
   "outputs": [],
   "source": [
    "from collections import deque\n",
    "import numpy as np\n",
    "import pandas as pd\n",
    "import seaborn as sns\n",
    "import random\n",
    "import pickle\n",
    "\n",
    "import cv2\n",
    "import PIL\n",
    "from PIL import Image\n",
    "from matplotlib import pyplot as plt\n",
    "\n",
    "import torch\n",
    "import torch.nn as nn\n",
    "import torch.nn.functional as F\n",
    "import torch.optim as optim\n",
    "\n",
    "import wandb"
   ]
  },
  {
   "cell_type": "code",
   "execution_count": 115,
   "id": "9468f036-0d54-4303-9e1a-55f92999006d",
   "metadata": {},
   "outputs": [],
   "source": [
    "MEM_SIZE = 8000\n",
    "MIN_MEM_SIZE = 1000\n",
    "DISCOUNT = 0.94\n",
    "EPSILON_START = 1\n",
    "EPSILON_END = 0.05\n",
    "EPSILON_STOP = 300\n",
    "\n",
    "SIMULATE_EVERY = 4\n",
    "\n",
    "EPISODES = 50\n",
    "BATCH_SIZE = 164\n",
    "LEARNING_RATE = 1e-3"
   ]
  },
  {
   "cell_type": "code",
   "execution_count": 116,
   "id": "24011d4e-ca65-42f8-8079-5de37bbb4e06",
   "metadata": {},
   "outputs": [],
   "source": [
    "%run tetris-environment.ipynb"
   ]
  },
  {
   "cell_type": "code",
   "execution_count": 117,
   "id": "5a4ee64b-a680-4610-aa11-4d22082ce021",
   "metadata": {},
   "outputs": [],
   "source": [
    "# device = torch.device(\"cuda\" if torch.cuda.is_available() else \"cpu\")\n",
    "# device\n",
    "device = 'cpu'"
   ]
  },
  {
   "cell_type": "code",
   "execution_count": 118,
   "id": "51ae12c1-215f-4f03-bced-6de9e6a342df",
   "metadata": {},
   "outputs": [],
   "source": [
    "class Decaying():\n",
    "    def __init__(self, start, end, duration):\n",
    "        self.per_step = (end - start) / duration\n",
    "        self.duration = duration\n",
    "        self.current_step = 0\n",
    "        self.current = start\n",
    "        \n",
    "\n",
    "    def step(self):\n",
    "        if self.current_step < self.duration:\n",
    "            self.current += self.per_step\n",
    "            self.current_step += 1\n",
    "            \n",
    "        return self.current\n",
    "    \n",
    "    def get(self):\n",
    "        return self.current"
   ]
  },
  {
   "cell_type": "code",
   "execution_count": 119,
   "id": "14b38626-0551-4689-866f-3b777384bdea",
   "metadata": {},
   "outputs": [],
   "source": [
    "# layer initialisation\n",
    "def init_linear_layer(m, method):\n",
    "    torch.nn.init.xavier_normal_(m.weight, nn.init.calculate_gain(method))\n",
    "    torch.nn.init.constant_(m.bias, 0)\n",
    "    return m"
   ]
  },
  {
   "cell_type": "code",
   "execution_count": 120,
   "id": "ccac04ac-416e-413a-b4f3-73fc8dff73c3",
   "metadata": {},
   "outputs": [],
   "source": [
    "model = nn.Sequential(\n",
    "    init_linear_layer(nn.Linear(20*10, 128), 'relu'),\n",
    "    nn.ReLU(),\n",
    "    init_linear_layer(nn.Linear(128, 64), 'relu'),\n",
    "    nn.ReLU(),\n",
    "    init_linear_layer(nn.Linear(64, 1), 'linear')\n",
    ")\n",
    "\n",
    "model.load_state_dict(torch.load('models/run-1.pt'))\n",
    "model = model.to(device)\n",
    "\n",
    "# model = nn.Sequential(\n",
    "#     init_linear_layer(nn.Linear(20*10, 128), 'relu'),\n",
    "#     nn.ReLU(),\n",
    "#     init_linear_layer(nn.Linear(128, 64), 'relu'),\n",
    "#     nn.ReLU(),\n",
    "#     init_linear_layer(nn.Linear(64, 32), 'relu'),\n",
    "#     nn.ReLU(),\n",
    "#     init_linear_layer(nn.Linear(32, 1), 'linear')\n",
    "# )\n",
    "\n",
    "# model = model.to(device)"
   ]
  },
  {
   "cell_type": "code",
   "execution_count": 121,
   "id": "03f70331-d5ba-4924-ae12-4a0c989f638c",
   "metadata": {},
   "outputs": [],
   "source": [
    "def get_best_state(states, use_epsilon=True):\n",
    "    if not use_epsilon or random.random() > epsilon.current:\n",
    "        q_values = model(states)\n",
    "        return torch.argmax(q_values)\n",
    "    else:\n",
    "        return random.choice(range(len(states)))"
   ]
  },
  {
   "cell_type": "code",
   "execution_count": 122,
   "id": "a97a3758-3b69-46ee-b570-14d115f925f4",
   "metadata": {},
   "outputs": [],
   "source": [
    "env = TetrisEnv()"
   ]
  },
  {
   "cell_type": "markdown",
   "id": "8f5c250e-694d-4bfd-9896-ea3865931f30",
   "metadata": {},
   "source": [
    "### Fill the replay buffer by playing games"
   ]
  },
  {
   "cell_type": "code",
   "execution_count": 123,
   "id": "0e8aac1f-362b-4c46-8134-5c946e027b73",
   "metadata": {},
   "outputs": [
    {
     "data": {
      "application/vnd.jupyter.widget-view+json": {
       "model_id": "a924aa3396064999a9b1c3214671e329",
       "version_major": 2,
       "version_minor": 0
      },
      "text/plain": [
       "  0%|          | 0/50.0 [00:00<?, ?it/s]"
      ]
     },
     "metadata": {},
     "output_type": "display_data"
    }
   ],
   "source": [
    "replay_buffer = []\n",
    "\n",
    "def to_torch(state):\n",
    "    return torch.from_numpy(states.reshape(states.shape[0], -1)).float()\n",
    "\n",
    "with tqdm(total=MIN_MEM_SIZE/20) as pbar:\n",
    "    while len(replay_buffer) < MIN_MEM_SIZE:\n",
    "        env.reset()\n",
    "        pbar.update(1)\n",
    "\n",
    "        # play moves until game over\n",
    "        while True:\n",
    "            states, scores, clears, dones = env.get_next_states()\n",
    "\n",
    "            chosen_index = get_best_state(torch.from_numpy(states.reshape(-1, 200)).float().to(device))\n",
    "\n",
    "            replay_buffer.append((env.get_current_state(), states[chosen_index], scores[chosen_index], dones[chosen_index]))\n",
    "\n",
    "            if dones[chosen_index]:\n",
    "                break\n",
    "            else:\n",
    "                env.step(states[chosen_index], clears[chosen_index], scores[chosen_index])\n",
    "\n",
    "# states, _, _, _, = env.get_next_states()\n",
    "# states = torch.from_numpy(states.reshape(states.shape[0], -1)).float()\n",
    "\n",
    "# model(states)"
   ]
  },
  {
   "cell_type": "code",
   "execution_count": 124,
   "id": "55d18c33-a326-4a82-ba8b-9eb1731897dc",
   "metadata": {},
   "outputs": [],
   "source": [
    "# with gzip.GzipFile('buffer.bin', 'wb', compresslevel=1) as gzipFile:\n",
    "#     pickle.dump(replay_buffer, gzipFile)"
   ]
  },
  {
   "cell_type": "markdown",
   "id": "ba11e423-f631-4b45-b77c-67d1f8b9819d",
   "metadata": {},
   "source": [
    "### Fill the replay buffer by loading from file"
   ]
  },
  {
   "cell_type": "code",
   "execution_count": null,
   "id": "64eb7dc4-6f89-4b13-8383-ee8a721da7b0",
   "metadata": {},
   "outputs": [],
   "source": []
  },
  {
   "cell_type": "markdown",
   "id": "637c2fa0-925c-49d9-8986-ffaf8b341fef",
   "metadata": {},
   "source": [
    "### Training loop"
   ]
  },
  {
   "cell_type": "code",
   "execution_count": 125,
   "id": "aa651a19-cb69-427d-acbc-77b2f344eec8",
   "metadata": {},
   "outputs": [
    {
     "data": {
      "text/html": [
       "Finishing last run (ID:3unga7us) before initializing another..."
      ],
      "text/plain": [
       "<IPython.core.display.HTML object>"
      ]
     },
     "metadata": {},
     "output_type": "display_data"
    },
    {
     "data": {
      "text/html": [
       "Waiting for W&B process to finish... <strong style=\"color:green\">(success).</strong>"
      ],
      "text/plain": [
       "<IPython.core.display.HTML object>"
      ]
     },
     "metadata": {},
     "output_type": "display_data"
    },
    {
     "data": {
      "application/vnd.jupyter.widget-view+json": {
       "model_id": "6d451939ea284aabb47c332f4c057dab",
       "version_major": 2,
       "version_minor": 0
      },
      "text/plain": [
       "VBox(children=(Label(value='0.001 MB of 0.001 MB uploaded (0.000 MB deduped)\\r'), FloatProgress(value=1.0, max…"
      ]
     },
     "metadata": {},
     "output_type": "display_data"
    },
    {
     "data": {
      "text/html": [
       "<style>\n",
       "    table.wandb td:nth-child(1) { padding: 0 10px; text-align: left ; width: auto;} td:nth-child(2) {text-align: left ; width: 100%}\n",
       "    .wandb-row { display: flex; flex-direction: row; flex-wrap: wrap; justify-content: flex-start; width: 100% }\n",
       "    .wandb-col { display: flex; flex-direction: column; flex-basis: 100%; flex: 1; padding: 10px; }\n",
       "    </style>\n",
       "<div class=\"wandb-row\"><div class=\"wandb-col\"><h3>Run history:</h3><br/><table class=\"wandb\"><tr><td>game/all_clears</td><td>▁▁▁▁▁▁▁▁▁▁▁▁▁▁▁▁▁▁▁▁▁▁▁▁▁▁▁▁▁▁▁▁▁▁▁▁▁▁▁▁</td></tr><tr><td>game/doubles</td><td>▁▁▁▁▁▁▁▁▁▁▁▁▁▁▁▁▁▁▁▁▁▁▁▁▁▁█▁▁▁▁▁▁▁▁▁▁▁▁▁</td></tr><tr><td>game/moves</td><td>▄▃▄▃▄▃▅▅▄▅▆▄▆▄▄▆▅▆▅▅▆▆▅▆▅▃▇▄▁▄▂▃▁█▃▃▃▃▄▄</td></tr><tr><td>game/quads</td><td>▁▁▁▁▁▁▁▁▁▁▁▁▁▁▁▁▁▁▁▁▁▁▁▁▁▁▁▁▁▁▁▁▁▁▁▁▁▁▁▁</td></tr><tr><td>game/score</td><td>▁▁▁▁▁▁▂▁▂▁▂▁▂▁▂▄▁▂▂▂▂▂▁▄▂▁▅▃▁▁▁▁▁█▁▁▁▁▁▁</td></tr><tr><td>game/singles</td><td>▁▁▁▁▁▁▂▁▂▁▃▁▃▁▂▃▁▃▂▂▃▃▁▃▃▁▃▃▁▁▁▁▁█▁▁▁▁▁▁</td></tr><tr><td>game/triples</td><td>▁▁▁▁▁▁▁▁▁▁▁▁▁▁▁▁▁▁▁▁▁▁▁▁▁▁▁▁▁▁▁▁▁▁▁▁▁▁▁▁</td></tr><tr><td>game/tspins</td><td>▁▁▁▁▁▁▁▁▁▁▁▁▁▁▁▁▁▁▁▁▁▁▁▁▁▁▁▁▁▁▁▁▁▁▁▁▁▁▁▁</td></tr><tr><td>training/loss</td><td>▃▂▁▂▂▁▁▂▂▁▁▁▁▁▁▁▁▁▁▁▁▁▁▂▁▃▁▂▂▂▂▂█▂▂▂▁▂▁▁</td></tr></table><br/></div><div class=\"wandb-col\"><h3>Run summary:</h3><br/><table class=\"wandb\"><tr><td>game/all_clears</td><td>0</td></tr><tr><td>game/doubles</td><td>0</td></tr><tr><td>game/moves</td><td>27</td></tr><tr><td>game/quads</td><td>0</td></tr><tr><td>game/score</td><td>100</td></tr><tr><td>game/singles</td><td>1</td></tr><tr><td>game/triples</td><td>0</td></tr><tr><td>game/tspins</td><td>0</td></tr><tr><td>training/loss</td><td>107.84496</td></tr></table><br/></div></div>"
      ],
      "text/plain": [
       "<IPython.core.display.HTML object>"
      ]
     },
     "metadata": {},
     "output_type": "display_data"
    },
    {
     "data": {
      "text/html": [
       "Synced <strong style=\"color:#cdcd00\">copper-cosmos-9</strong>: <a href=\"https://wandb.ai/fischly/tetris-dqn/runs/3unga7us\" target=\"_blank\">https://wandb.ai/fischly/tetris-dqn/runs/3unga7us</a><br/>Synced 5 W&B file(s), 0 media file(s), 0 artifact file(s) and 0 other file(s)"
      ],
      "text/plain": [
       "<IPython.core.display.HTML object>"
      ]
     },
     "metadata": {},
     "output_type": "display_data"
    },
    {
     "data": {
      "text/html": [
       "Find logs at: <code>.\\wandb\\run-20230104_225132-3unga7us\\logs</code>"
      ],
      "text/plain": [
       "<IPython.core.display.HTML object>"
      ]
     },
     "metadata": {},
     "output_type": "display_data"
    },
    {
     "data": {
      "text/html": [
       "Successfully finished last run (ID:3unga7us). Initializing new run:<br/>"
      ],
      "text/plain": [
       "<IPython.core.display.HTML object>"
      ]
     },
     "metadata": {},
     "output_type": "display_data"
    },
    {
     "data": {
      "text/html": [
       "wandb version 0.13.7 is available!  To upgrade, please run:\n",
       " $ pip install wandb --upgrade"
      ],
      "text/plain": [
       "<IPython.core.display.HTML object>"
      ]
     },
     "metadata": {},
     "output_type": "display_data"
    },
    {
     "data": {
      "text/html": [
       "Tracking run with wandb version 0.13.5"
      ],
      "text/plain": [
       "<IPython.core.display.HTML object>"
      ]
     },
     "metadata": {},
     "output_type": "display_data"
    },
    {
     "data": {
      "text/html": [
       "Run data is saved locally in <code>C:\\Binaries\\WPy64-31050\\notebooks\\tetris-ai\\wandb\\run-20230104_230754-2dxi2es4</code>"
      ],
      "text/plain": [
       "<IPython.core.display.HTML object>"
      ]
     },
     "metadata": {},
     "output_type": "display_data"
    },
    {
     "data": {
      "text/html": [
       "Syncing run <strong><a href=\"https://wandb.ai/fischly/tetris-dqn/runs/2dxi2es4\" target=\"_blank\">ancient-music-10</a></strong> to <a href=\"https://wandb.ai/fischly/tetris-dqn\" target=\"_blank\">Weights & Biases</a> (<a href=\"https://wandb.me/run\" target=\"_blank\">docs</a>)<br/>"
      ],
      "text/plain": [
       "<IPython.core.display.HTML object>"
      ]
     },
     "metadata": {},
     "output_type": "display_data"
    },
    {
     "data": {
      "text/html": [
       "<button onClick=\"this.nextSibling.style.display='block';this.style.display='none';\">Display W&B run</button><iframe src=\"https://wandb.ai/fischly/tetris-dqn/runs/2dxi2es4?jupyter=true\" style=\"border:none;width:100%;height:420px;display:none;\"></iframe>"
      ],
      "text/plain": [
       "<wandb.sdk.wandb_run.Run at 0x235291d0d90>"
      ]
     },
     "execution_count": 125,
     "metadata": {},
     "output_type": "execute_result"
    }
   ],
   "source": [
    "wandb.init(project='tetris-dqn', config={\n",
    "    'learning-rate': LEARNING_RATE,\n",
    "    'batch-size': BATCH_SIZE,\n",
    "    'replay-max-size': MEM_SIZE,\n",
    "    'replay-min-size': MIN_MEM_SIZE,\n",
    "    'discound-factor': DISCOUNT\n",
    "})"
   ]
  },
  {
   "cell_type": "code",
   "execution_count": 126,
   "id": "c95226ce-c7bb-4def-a805-11748c9b7a87",
   "metadata": {},
   "outputs": [],
   "source": [
    "# %load_ext line_profiler\n",
    "# %prun train(replay_buffer)\n",
    "\n",
    "epsilon = Decaying(1, 0.03, 4000)\n",
    "discount = Decaying(0.7, 0.94, 4000)"
   ]
  },
  {
   "cell_type": "code",
   "execution_count": 180,
   "id": "538048ff-be42-42dd-9bac-5b209ab8853e",
   "metadata": {},
   "outputs": [
    {
     "data": {
      "application/vnd.jupyter.widget-view+json": {
       "model_id": "58dcb89cd34742749519421a467d578f",
       "version_major": 2,
       "version_minor": 0
      },
      "text/plain": [
       "  0%|          | 0/2000 [00:00<?, ?it/s]"
      ]
     },
     "metadata": {},
     "output_type": "display_data"
    }
   ],
   "source": [
    "\n",
    "# def train():\n",
    "criterion = nn.HuberLoss()\n",
    "optimizer = torch.optim.AdamW(model.parameters(), lr=LEARNING_RATE)\n",
    "\n",
    "training_loss = []\n",
    "training_scores = []\n",
    "\n",
    "for episode in tqdm(range(2000)): # tqdm(range(EPISODES)):\n",
    "    # play another game\n",
    "    if episode % SIMULATE_EVERY == 0:\n",
    "        env.reset()\n",
    "        while True:\n",
    "            states, scores, clears, dones = env.get_next_states()\n",
    "\n",
    "            chosen_index = get_best_state(torch.from_numpy(states.reshape(-1, 200)).float().to(device))\n",
    "\n",
    "            replay_buffer.append((env.get_current_state(), states[chosen_index], scores[chosen_index], dones[chosen_index]))\n",
    "\n",
    "            if dones[chosen_index]:\n",
    "                training_scores.append({'epoch': episode, 'score': env.score})\n",
    "                break\n",
    "            else:\n",
    "                env.step(states[chosen_index], clears[chosen_index], scores[chosen_index])\n",
    "\n",
    "        if len(replay_buffer) > MEM_SIZE:\n",
    "            replay_buffer = replay_buffer[int(MEM_SIZE/10):]\n",
    "            \n",
    "        wandb.log({'game/score': env.score,\n",
    "                   'game/singles': env.clears[0], 'game/doubles': env.clears[1], 'game/triples': env.clears[2], 'game/quads': env.clears[3],\n",
    "                   'game/tspins': env.tspins, 'game/all_clears': env.all_clears, 'game/moves': env.moves })\n",
    "\n",
    "\n",
    "    # take sample from replay memory\n",
    "    batch = random.sample(replay_buffer, BATCH_SIZE)\n",
    "\n",
    "    current_states = torch.from_numpy(np.array([s[0].reshape(200) for s in batch])).float().to(device)\n",
    "    next_states = torch.from_numpy(np.array([s[1].reshape(200) for s in batch])).float().to(device)\n",
    "\n",
    "    next_q_values = model(next_states)\n",
    "    y_hat = model(current_states)\n",
    "\n",
    "    # calculate expected q value\n",
    "    y = []\n",
    "    for i, (state, _, score, done) in enumerate(batch):\n",
    "        if not done:\n",
    "            new_q = score + discount.current * next_q_values[i]\n",
    "        else:\n",
    "            new_q = score\n",
    "\n",
    "        y.append(new_q)\n",
    "\n",
    "    # fit the model to the expected q value\n",
    "    loss = criterion(y_hat, torch.tensor(y).reshape(BATCH_SIZE, 1).to(device))\n",
    "\n",
    "    optimizer.zero_grad()\n",
    "    loss.backward()\n",
    "    optimizer.step()\n",
    "\n",
    "    epsilon.step()\n",
    "    discount.step()\n",
    "\n",
    "    wandb.log({'training/loss': loss.item()})\n",
    "    training_loss.append({'epoch': episode, 'loss': loss.item()})\n",
    "        # print(loss)\n",
    "    \n",
    "# sns.lineplot(data=pd.DataFrame(training_loss), x='epoch', y='loss')\n",
    "# sns.lineplot(data=pd.DataFrame(training_scores), x='epoch', y='score')"
   ]
  },
  {
   "cell_type": "code",
   "execution_count": 178,
   "id": "6b9bea3b-c207-4e90-9ac3-41d242b98a56",
   "metadata": {},
   "outputs": [
    {
     "name": "stdout",
     "output_type": "stream",
     "text": [
      "0.9399999999997959\n",
      "0.029999999999945952\n"
     ]
    }
   ],
   "source": [
    "# sns.lineplot(data=pd.DataFrame(training_scores), x='epoch', y='score')\n",
    "print(discount.current)\n",
    "print(epsilon.current)"
   ]
  },
  {
   "cell_type": "code",
   "execution_count": 129,
   "id": "ebe2b8b5-be56-4dcd-8c2f-4e3d029bca4e",
   "metadata": {},
   "outputs": [],
   "source": [
    "\n",
    "# env.reset()\n",
    "# print(env.current_piece)\n",
    "\n",
    "# while True:\n",
    "#     states, scores, clears, dones = env.get_next_states()\n",
    "\n",
    "#     chosen_index = get_best_state(torch.from_numpy(states.reshape(-1, 200)).float())\n",
    "\n",
    "#     env._print_state(states[chosen_index])\n",
    "#     print()\n",
    "    \n",
    "#     # replay_buffer.append((env.get_current_state(), states[chosen_index], scores[chosen_index], dones[chosen_index]))\n",
    "\n",
    "#     if dones[chosen_index]:\n",
    "#         print(f'Score: {env.score}')\n",
    "#         print(f'Clears: {env.clears}, t-spins: {env.tspins}, alll_clears: {env.all_clears}')\n",
    "#         break\n",
    "#     else:\n",
    "#         env.step(states[chosen_index], clears[chosen_index], scores[chosen_index])"
   ]
  },
  {
   "cell_type": "code",
   "execution_count": 242,
   "id": "0281bfe9-08ac-448c-b01a-cdb12bf5bd53",
   "metadata": {},
   "outputs": [
    {
     "name": "stdout",
     "output_type": "stream",
     "text": [
      "Score: 1000\n",
      "Clears: [10, 0, 0, 0], t-spins: 0, alll_clears: 0\n"
     ]
    }
   ],
   "source": [
    "%matplotlib inline\n",
    "\n",
    "COLORS = {\n",
    "    0: (0,0,0),\n",
    "    1: (255,255,255)\n",
    "    # 0: (128, 0, 128),\n",
    "    # 1: (255, 127, 0),\n",
    "    # 2: (0, 0, 255),\n",
    "    # 3: (255, 255, 0),\n",
    "    # 4: (0, 255, 255),\n",
    "    # 5: (0, 255, 0),\n",
    "    # 6: (255, 0, 0)\n",
    "}\n",
    "    \n",
    "def render_run():\n",
    "    def gen_image(state):\n",
    "        img = [COLORS[cell] for row in state for cell in row]\n",
    "        img = np.array(img).reshape(20, 10, 3).astype(np.uint8)\n",
    "        img = img[..., ::-1] # Convert RRG to BGR (used by cv2)\n",
    "        img = Image.fromarray(img, 'RGB')\n",
    "\n",
    "        img = img.resize((10 * 25, 20 * 25), Image.Resampling.NEAREST)\n",
    "        \n",
    "        return img\n",
    "    \n",
    "    env.reset()\n",
    "\n",
    "    frames = []\n",
    "    \n",
    "    while True:\n",
    "        states, scores, clears, dones = env.get_next_states()\n",
    "\n",
    "        chosen_index = get_best_state(torch.from_numpy(states.reshape(-1, 200)).float(), False)\n",
    "\n",
    "        frames.append(gen_image(states[chosen_index]))\n",
    "\n",
    "        # replay_buffer.append((env.get_current_state(), states[chosen_index], scores[chosen_index], dones[chosen_index]))\n",
    "\n",
    "        if dones[chosen_index]:\n",
    "            print(f'Score: {env.score}')\n",
    "            print(f'Clears: {env.clears}, t-spins: {env.tspins}, alll_clears: {env.all_clears}')\n",
    "            break\n",
    "        else:\n",
    "            env.step(states[chosen_index], clears[chosen_index], scores[chosen_index])\n",
    "    \n",
    "    frames[0].save('game15.gif', format='GIF', append_images=frames, save_all=True, duration=300, loop=0)\n",
    "    \n",
    "render_run()"
   ]
  },
  {
   "cell_type": "code",
   "execution_count": 198,
   "id": "f6c0fec7-86dd-444d-94db-601795e62697",
   "metadata": {},
   "outputs": [],
   "source": [
    "torch.save(model.state_dict(), 'models/run-4.pt')"
   ]
  },
  {
   "cell_type": "code",
   "execution_count": null,
   "id": "c3f9875c-754b-41f0-ba92-795f472bdcf0",
   "metadata": {},
   "outputs": [],
   "source": []
  }
 ],
 "metadata": {
  "kernelspec": {
   "display_name": "Python 3 (ipykernel)",
   "language": "python",
   "name": "python3"
  },
  "language_info": {
   "codemirror_mode": {
    "name": "ipython",
    "version": 3
   },
   "file_extension": ".py",
   "mimetype": "text/x-python",
   "name": "python",
   "nbconvert_exporter": "python",
   "pygments_lexer": "ipython3",
   "version": "3.10.5"
  }
 },
 "nbformat": 4,
 "nbformat_minor": 5
}
