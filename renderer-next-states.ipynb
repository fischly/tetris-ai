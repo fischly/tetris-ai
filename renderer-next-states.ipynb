{
 "cells": [
  {
   "cell_type": "code",
   "execution_count": 35,
   "id": "eda35fdc-0332-438d-a7f6-80b5e227dc7a",
   "metadata": {},
   "outputs": [
    {
     "name": "stdout",
     "output_type": "stream",
     "text": [
      "The autoreload extension is already loaded. To reload it, use:\n",
      "  %reload_ext autoreload\n"
     ]
    }
   ],
   "source": [
    "%load_ext autoreload\n",
    "%autoreload 1"
   ]
  },
  {
   "cell_type": "code",
   "execution_count": 36,
   "id": "684a06cd-77b0-4049-9a51-fe5f6f2d8f55",
   "metadata": {},
   "outputs": [],
   "source": [
    "import numpy as np\n",
    "import random\n",
    "import time\n",
    "import pygame\n",
    "import pickle\n",
    "\n",
    "import PIL\n",
    "from PIL import Image, ImageOps\n",
    "\n",
    "from tetris.Piece import Piece\n",
    "from tetris.EnvironmentRendered import TetrisEnvRendered\n",
    "\n",
    "%aimport gui.gui"
   ]
  },
  {
   "cell_type": "code",
   "execution_count": 37,
   "id": "6e854aad-99ab-4483-94d2-787d76a4cebf",
   "metadata": {},
   "outputs": [],
   "source": [
    "env = TetrisEnvRendered()\n",
    "\n",
    "env.field.field_data[17,:3] = 1\n",
    "env.field.field_data[17,5:] = 1\n",
    "\n",
    "env.field.field_data[18,0:3] = 1\n",
    "env.field.field_data[18,6:] = 1\n",
    "\n",
    "env.field.field_data[19:, :] = 1\n",
    "env.field.field_data[19,4] = 0\n",
    "\n",
    "\n",
    "env.field.field_data_pretty[17,:3] = 7\n",
    "env.field.field_data_pretty[17,5:] = 7\n",
    "\n",
    "env.field.field_data_pretty[18,0:3] = 7\n",
    "env.field.field_data_pretty[18,6:] = 7\n",
    "\n",
    "env.field.field_data_pretty[19:, :] = 7\n",
    "env.field.field_data_pretty[19,4] = -1\n",
    "\n",
    "env.current_piece = 0"
   ]
  },
  {
   "cell_type": "markdown",
   "id": "e1ab1701-f75e-4bfe-bb03-f8d2d763273c",
   "metadata": {
    "tags": []
   },
   "source": [
    "## Without hold"
   ]
  },
  {
   "cell_type": "code",
   "execution_count": 38,
   "id": "9b6be2d4-d5b4-4b8a-8958-0a070b309a14",
   "metadata": {},
   "outputs": [],
   "source": [
    "run = []\n",
    "def render_run():\n",
    "    # env.reset()\n",
    "    \n",
    "    states, states_pretty, scores, clears, heuristics, dones, moves = env.get_next_states()\n",
    "    \n",
    "    for state, pretty, score, clear, heuris in zip(states, states_pretty, scores, clears, heuristics):\n",
    "        run.append(pretty)\n",
    "\n",
    "#     while True:\n",
    "#         states, states_pretty, scores, clears, heuristics, dones, moves = env.get_next_states()\n",
    "\n",
    "#         chosen_index = get_best_state(heuristics, genome)\n",
    "\n",
    "#         states_to_render.append((states_pretty[chosen_index], moves[chosen_index], env.current_piece, env.get_next_queue(), env.hold_piece, clears[chosen_index]))\n",
    "\n",
    "#         if dones[chosen_index]:\n",
    "#             print(f'Score: {env.score}')\n",
    "#             print(f'Clears: {env.clears}, t-spins: {env.tspins}, alll_clears: {env.all_clears}')\n",
    "#             break\n",
    "#         else:\n",
    "#             env.step(states[chosen_index], states_pretty[chosen_index], clears[chosen_index], scores[chosen_index])\n",
    "\n",
    "    \n",
    "render_run()"
   ]
  },
  {
   "cell_type": "code",
   "execution_count": 57,
   "id": "c679f21e-7c22-48a6-a717-486d494cd90e",
   "metadata": {},
   "outputs": [],
   "source": [
    "OUTPUT_PATH = 'images/follow-states/'\n",
    "\n",
    "g = gui.gui.Gui(sleep=25)\n",
    "\n",
    "last_state = np.ones((20,10)) * -1\n",
    "\n",
    "# time.sleep(10)\n",
    "\n",
    "def save_image():\n",
    "    x3 = pygame.surfarray.pixels3d(g.win)\n",
    "    array = np.uint8(x3)\n",
    "    im = PIL.Image.fromarray(array)\n",
    "    im = ImageOps.mirror(im.rotate(-90, expand=1))\n",
    "    im = im.crop((230, 463, 230 + 340, 670))\n",
    "\n",
    "\n",
    "    # im.show()\n",
    "    im.save(f'{OUTPUT_PATH}T-{idx}.png')\n",
    "\n",
    "for idx, state in enumerate(run): # runs[0][-200:]:\n",
    "#     p = Piece(piece)\n",
    "    \n",
    "#     for move in moves:\n",
    "#         for m in move.split(','):\n",
    "#             if m == 'ml':\n",
    "#                 p.pos[1] -= 1\n",
    "#             if m == 'mr':\n",
    "#                 p.pos[1] += 1\n",
    "#             if m == 'sd':\n",
    "#                 p.pos[0] += 1\n",
    "#             if m == 'mu':\n",
    "#                 p.pos[0] -= 1\n",
    "\n",
    "#             if m == 'rr':\n",
    "#                 p.rot = (p.rot + 1) % p.pdata.num_rot\n",
    "#             if m == 'rl':\n",
    "#                 p.rot = (p.rot - 1) % p.pdata.num_rot\n",
    "\n",
    "        # if idx != 34:\n",
    "        #     continue\n",
    "\n",
    "        g.draw(state, None, [], None)\n",
    "    \n",
    "        save_image()\n",
    "        \n",
    "        # pygame.quit()\n",
    "        # break\n",
    "        \n",
    "        for event in pygame.event.get():\n",
    "            if event.type == pygame.QUIT:\n",
    "                pygame.quit()\n",
    "            # if event.type == pygame.KEYDOWN:\n",
    "            #     if event.key == pygame.K_RIGHT:\n",
    "            #         move_step += 1\n"
   ]
  },
  {
   "cell_type": "code",
   "execution_count": 58,
   "id": "cd518a27-35db-4256-aa5f-d9ea93d7cf97",
   "metadata": {},
   "outputs": [],
   "source": [
    "pygame.quit()"
   ]
  }
 ],
 "metadata": {
  "kernelspec": {
   "display_name": "Python 3 (ipykernel)",
   "language": "python",
   "name": "python3"
  },
  "language_info": {
   "codemirror_mode": {
    "name": "ipython",
    "version": 3
   },
   "file_extension": ".py",
   "mimetype": "text/x-python",
   "name": "python",
   "nbconvert_exporter": "python",
   "pygments_lexer": "ipython3",
   "version": "3.9.15"
  }
 },
 "nbformat": 4,
 "nbformat_minor": 5
}
